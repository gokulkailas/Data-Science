{
 "cells": [
  {
   "cell_type": "code",
   "execution_count": 1,
   "id": "2a29c873",
   "metadata": {},
   "outputs": [],
   "source": [
    "import numpy as np\n",
    "import pandas as pd\n",
    "import matplotlib.pyplot as plt\n",
    "%matplotlib inline\n",
    "import seaborn as sns\n",
    "sns.set()\n",
    "from datetime import datetime\n",
    "import warnings\n",
    "warnings.filterwarnings('ignore')"
   ]
  },
  {
   "cell_type": "code",
   "execution_count": 2,
   "id": "50d87be2",
   "metadata": {},
   "outputs": [],
   "source": [
    "df1 = pd.read_csv('2019-oct1.csv')\n",
    "df2 = pd.read_csv('2019-nov1.csv')\n",
    "df3 = pd.read_csv('2019-dec2.csv')"
   ]
  },
  {
   "cell_type": "code",
   "execution_count": 3,
   "id": "0c2539b9",
   "metadata": {},
   "outputs": [],
   "source": [
    "df = pd.concat([df1,df2,df3])"
   ]
  },
  {
   "cell_type": "code",
   "execution_count": 4,
   "id": "6ecd20f3",
   "metadata": {},
   "outputs": [
    {
     "data": {
      "text/plain": [
       "Index(['Unnamed: 0', 'event_time', 'event_type', 'product_id', 'category_id',\n",
       "       'category_code', 'brand', 'price', 'user_id', 'user_session'],\n",
       "      dtype='object')"
      ]
     },
     "execution_count": 4,
     "metadata": {},
     "output_type": "execute_result"
    }
   ],
   "source": [
    "df.columns"
   ]
  },
  {
   "cell_type": "code",
   "execution_count": 5,
   "id": "fd3b1f48",
   "metadata": {},
   "outputs": [],
   "source": [
    "timeseries_df = df[['event_time','event_type']]"
   ]
  },
  {
   "cell_type": "code",
   "execution_count": 6,
   "id": "28e9ce32",
   "metadata": {},
   "outputs": [
    {
     "data": {
      "text/html": [
       "<div>\n",
       "<style scoped>\n",
       "    .dataframe tbody tr th:only-of-type {\n",
       "        vertical-align: middle;\n",
       "    }\n",
       "\n",
       "    .dataframe tbody tr th {\n",
       "        vertical-align: top;\n",
       "    }\n",
       "\n",
       "    .dataframe thead th {\n",
       "        text-align: right;\n",
       "    }\n",
       "</style>\n",
       "<table border=\"1\" class=\"dataframe\">\n",
       "  <thead>\n",
       "    <tr style=\"text-align: right;\">\n",
       "      <th></th>\n",
       "      <th>event_time</th>\n",
       "      <th>event_type</th>\n",
       "    </tr>\n",
       "  </thead>\n",
       "  <tbody>\n",
       "    <tr>\n",
       "      <th>0</th>\n",
       "      <td>2019-10-01 00:00:00 UTC</td>\n",
       "      <td>cart</td>\n",
       "    </tr>\n",
       "    <tr>\n",
       "      <th>1</th>\n",
       "      <td>2019-10-01 00:00:03 UTC</td>\n",
       "      <td>cart</td>\n",
       "    </tr>\n",
       "    <tr>\n",
       "      <th>2</th>\n",
       "      <td>2019-10-01 00:00:07 UTC</td>\n",
       "      <td>cart</td>\n",
       "    </tr>\n",
       "    <tr>\n",
       "      <th>3</th>\n",
       "      <td>2019-10-01 00:00:07 UTC</td>\n",
       "      <td>cart</td>\n",
       "    </tr>\n",
       "    <tr>\n",
       "      <th>4</th>\n",
       "      <td>2019-10-01 00:00:15 UTC</td>\n",
       "      <td>cart</td>\n",
       "    </tr>\n",
       "  </tbody>\n",
       "</table>\n",
       "</div>"
      ],
      "text/plain": [
       "                event_time event_type\n",
       "0  2019-10-01 00:00:00 UTC       cart\n",
       "1  2019-10-01 00:00:03 UTC       cart\n",
       "2  2019-10-01 00:00:07 UTC       cart\n",
       "3  2019-10-01 00:00:07 UTC       cart\n",
       "4  2019-10-01 00:00:15 UTC       cart"
      ]
     },
     "execution_count": 6,
     "metadata": {},
     "output_type": "execute_result"
    }
   ],
   "source": [
    "timeseries_df.head()"
   ]
  },
  {
   "cell_type": "code",
   "execution_count": 7,
   "id": "d14c8415",
   "metadata": {},
   "outputs": [
    {
     "name": "stdout",
     "output_type": "stream",
     "text": [
      "<class 'pandas.core.frame.DataFrame'>\n",
      "Int64Index: 62646 entries, 0 to 20285\n",
      "Data columns (total 2 columns):\n",
      " #   Column      Non-Null Count  Dtype \n",
      "---  ------      --------------  ----- \n",
      " 0   event_time  62646 non-null  object\n",
      " 1   event_type  62645 non-null  object\n",
      "dtypes: object(2)\n",
      "memory usage: 1.4+ MB\n"
     ]
    }
   ],
   "source": [
    "timeseries_df.info()"
   ]
  },
  {
   "cell_type": "code",
   "execution_count": 8,
   "id": "d88f7404",
   "metadata": {},
   "outputs": [],
   "source": [
    "timeseries_df['event_time'] = pd.to_datetime(timeseries_df['event_time'],  infer_datetime_format=True)\n",
    "#timeseries_df = timeseries_df.set_index(['event_time'])"
   ]
  },
  {
   "cell_type": "code",
   "execution_count": 9,
   "id": "e2a5004e",
   "metadata": {},
   "outputs": [
    {
     "data": {
      "text/html": [
       "<div>\n",
       "<style scoped>\n",
       "    .dataframe tbody tr th:only-of-type {\n",
       "        vertical-align: middle;\n",
       "    }\n",
       "\n",
       "    .dataframe tbody tr th {\n",
       "        vertical-align: top;\n",
       "    }\n",
       "\n",
       "    .dataframe thead th {\n",
       "        text-align: right;\n",
       "    }\n",
       "</style>\n",
       "<table border=\"1\" class=\"dataframe\">\n",
       "  <thead>\n",
       "    <tr style=\"text-align: right;\">\n",
       "      <th></th>\n",
       "      <th>event_time</th>\n",
       "      <th>event_type</th>\n",
       "    </tr>\n",
       "  </thead>\n",
       "  <tbody>\n",
       "    <tr>\n",
       "      <th>0</th>\n",
       "      <td>2019-10-01 00:00:00+00:00</td>\n",
       "      <td>cart</td>\n",
       "    </tr>\n",
       "    <tr>\n",
       "      <th>1</th>\n",
       "      <td>2019-10-01 00:00:03+00:00</td>\n",
       "      <td>cart</td>\n",
       "    </tr>\n",
       "    <tr>\n",
       "      <th>2</th>\n",
       "      <td>2019-10-01 00:00:07+00:00</td>\n",
       "      <td>cart</td>\n",
       "    </tr>\n",
       "    <tr>\n",
       "      <th>3</th>\n",
       "      <td>2019-10-01 00:00:07+00:00</td>\n",
       "      <td>cart</td>\n",
       "    </tr>\n",
       "    <tr>\n",
       "      <th>4</th>\n",
       "      <td>2019-10-01 00:00:15+00:00</td>\n",
       "      <td>cart</td>\n",
       "    </tr>\n",
       "  </tbody>\n",
       "</table>\n",
       "</div>"
      ],
      "text/plain": [
       "                 event_time event_type\n",
       "0 2019-10-01 00:00:00+00:00       cart\n",
       "1 2019-10-01 00:00:03+00:00       cart\n",
       "2 2019-10-01 00:00:07+00:00       cart\n",
       "3 2019-10-01 00:00:07+00:00       cart\n",
       "4 2019-10-01 00:00:15+00:00       cart"
      ]
     },
     "execution_count": 9,
     "metadata": {},
     "output_type": "execute_result"
    }
   ],
   "source": [
    "timeseries_df.head()"
   ]
  },
  {
   "cell_type": "code",
   "execution_count": 10,
   "id": "13c0be74",
   "metadata": {},
   "outputs": [],
   "source": [
    "timeseries_df = timeseries_df.dropna()\n"
   ]
  },
  {
   "cell_type": "code",
   "execution_count": 11,
   "id": "d3d9268e",
   "metadata": {},
   "outputs": [
    {
     "data": {
      "text/plain": [
       "array(['cart', 'view', 'remove_from_cart', 'purchase'], dtype=object)"
      ]
     },
     "execution_count": 11,
     "metadata": {},
     "output_type": "execute_result"
    }
   ],
   "source": [
    "timeseries_df['event_type'].unique()"
   ]
  },
  {
   "cell_type": "code",
   "execution_count": 12,
   "id": "9f33b44e",
   "metadata": {},
   "outputs": [
    {
     "data": {
      "text/plain": [
       "view                27801\n",
       "cart                17769\n",
       "remove_from_cart    12606\n",
       "purchase             4469\n",
       "Name: event_type, dtype: int64"
      ]
     },
     "execution_count": 12,
     "metadata": {},
     "output_type": "execute_result"
    }
   ],
   "source": [
    "timeseries_df['event_type'].value_counts()"
   ]
  },
  {
   "cell_type": "code",
   "execution_count": 13,
   "id": "bde6c3be",
   "metadata": {},
   "outputs": [],
   "source": [
    "timeseries_purchase_df = timeseries_df.loc[timeseries_df['event_type']=='purchase']"
   ]
  },
  {
   "cell_type": "code",
   "execution_count": 14,
   "id": "965a6ebd",
   "metadata": {},
   "outputs": [
    {
     "data": {
      "text/plain": [
       "(4469, 2)"
      ]
     },
     "execution_count": 14,
     "metadata": {},
     "output_type": "execute_result"
    }
   ],
   "source": [
    "timeseries_purchase_df.shape"
   ]
  },
  {
   "cell_type": "code",
   "execution_count": 15,
   "id": "e4f75046",
   "metadata": {},
   "outputs": [],
   "source": [
    "replace_purchase = {'event_type':{'purchase':1}}"
   ]
  },
  {
   "cell_type": "code",
   "execution_count": 16,
   "id": "f7400237",
   "metadata": {},
   "outputs": [],
   "source": [
    "timeseries_purchase_df = timeseries_purchase_df.replace(replace_purchase)"
   ]
  },
  {
   "cell_type": "code",
   "execution_count": 17,
   "id": "4d42037d",
   "metadata": {},
   "outputs": [
    {
     "data": {
      "text/html": [
       "<div>\n",
       "<style scoped>\n",
       "    .dataframe tbody tr th:only-of-type {\n",
       "        vertical-align: middle;\n",
       "    }\n",
       "\n",
       "    .dataframe tbody tr th {\n",
       "        vertical-align: top;\n",
       "    }\n",
       "\n",
       "    .dataframe thead th {\n",
       "        text-align: right;\n",
       "    }\n",
       "</style>\n",
       "<table border=\"1\" class=\"dataframe\">\n",
       "  <thead>\n",
       "    <tr style=\"text-align: right;\">\n",
       "      <th></th>\n",
       "      <th>event_time</th>\n",
       "      <th>event_type</th>\n",
       "    </tr>\n",
       "  </thead>\n",
       "  <tbody>\n",
       "    <tr>\n",
       "      <th>202</th>\n",
       "      <td>2019-10-01 00:06:35+00:00</td>\n",
       "      <td>1</td>\n",
       "    </tr>\n",
       "    <tr>\n",
       "      <th>204</th>\n",
       "      <td>2019-10-01 00:06:35+00:00</td>\n",
       "      <td>1</td>\n",
       "    </tr>\n",
       "    <tr>\n",
       "      <th>205</th>\n",
       "      <td>2019-10-01 00:06:35+00:00</td>\n",
       "      <td>1</td>\n",
       "    </tr>\n",
       "    <tr>\n",
       "      <th>206</th>\n",
       "      <td>2019-10-01 00:06:35+00:00</td>\n",
       "      <td>1</td>\n",
       "    </tr>\n",
       "    <tr>\n",
       "      <th>207</th>\n",
       "      <td>2019-10-01 00:06:35+00:00</td>\n",
       "      <td>1</td>\n",
       "    </tr>\n",
       "  </tbody>\n",
       "</table>\n",
       "</div>"
      ],
      "text/plain": [
       "                   event_time  event_type\n",
       "202 2019-10-01 00:06:35+00:00           1\n",
       "204 2019-10-01 00:06:35+00:00           1\n",
       "205 2019-10-01 00:06:35+00:00           1\n",
       "206 2019-10-01 00:06:35+00:00           1\n",
       "207 2019-10-01 00:06:35+00:00           1"
      ]
     },
     "execution_count": 17,
     "metadata": {},
     "output_type": "execute_result"
    }
   ],
   "source": [
    "timeseries_purchase_df.head()"
   ]
  },
  {
   "cell_type": "code",
   "execution_count": 18,
   "id": "d6f8eef6",
   "metadata": {},
   "outputs": [],
   "source": [
    "timeseries_purchase_df['date'] = pd.to_datetime(timeseries_purchase_df['event_time']).dt.date"
   ]
  },
  {
   "cell_type": "code",
   "execution_count": 19,
   "id": "724d3bdf",
   "metadata": {},
   "outputs": [
    {
     "data": {
      "text/html": [
       "<div>\n",
       "<style scoped>\n",
       "    .dataframe tbody tr th:only-of-type {\n",
       "        vertical-align: middle;\n",
       "    }\n",
       "\n",
       "    .dataframe tbody tr th {\n",
       "        vertical-align: top;\n",
       "    }\n",
       "\n",
       "    .dataframe thead th {\n",
       "        text-align: right;\n",
       "    }\n",
       "</style>\n",
       "<table border=\"1\" class=\"dataframe\">\n",
       "  <thead>\n",
       "    <tr style=\"text-align: right;\">\n",
       "      <th></th>\n",
       "      <th>event_time</th>\n",
       "      <th>event_type</th>\n",
       "      <th>date</th>\n",
       "    </tr>\n",
       "  </thead>\n",
       "  <tbody>\n",
       "    <tr>\n",
       "      <th>202</th>\n",
       "      <td>2019-10-01 00:06:35+00:00</td>\n",
       "      <td>1</td>\n",
       "      <td>2019-10-01</td>\n",
       "    </tr>\n",
       "    <tr>\n",
       "      <th>204</th>\n",
       "      <td>2019-10-01 00:06:35+00:00</td>\n",
       "      <td>1</td>\n",
       "      <td>2019-10-01</td>\n",
       "    </tr>\n",
       "    <tr>\n",
       "      <th>205</th>\n",
       "      <td>2019-10-01 00:06:35+00:00</td>\n",
       "      <td>1</td>\n",
       "      <td>2019-10-01</td>\n",
       "    </tr>\n",
       "    <tr>\n",
       "      <th>206</th>\n",
       "      <td>2019-10-01 00:06:35+00:00</td>\n",
       "      <td>1</td>\n",
       "      <td>2019-10-01</td>\n",
       "    </tr>\n",
       "    <tr>\n",
       "      <th>207</th>\n",
       "      <td>2019-10-01 00:06:35+00:00</td>\n",
       "      <td>1</td>\n",
       "      <td>2019-10-01</td>\n",
       "    </tr>\n",
       "  </tbody>\n",
       "</table>\n",
       "</div>"
      ],
      "text/plain": [
       "                   event_time  event_type        date\n",
       "202 2019-10-01 00:06:35+00:00           1  2019-10-01\n",
       "204 2019-10-01 00:06:35+00:00           1  2019-10-01\n",
       "205 2019-10-01 00:06:35+00:00           1  2019-10-01\n",
       "206 2019-10-01 00:06:35+00:00           1  2019-10-01\n",
       "207 2019-10-01 00:06:35+00:00           1  2019-10-01"
      ]
     },
     "execution_count": 19,
     "metadata": {},
     "output_type": "execute_result"
    }
   ],
   "source": [
    "timeseries_purchase_df.head()"
   ]
  },
  {
   "cell_type": "code",
   "execution_count": 20,
   "id": "8d2456f5",
   "metadata": {},
   "outputs": [],
   "source": [
    "timeseries_purchase_df = timeseries_purchase_df.drop(columns = 'event_time',axis=1)"
   ]
  },
  {
   "cell_type": "code",
   "execution_count": 21,
   "id": "cfd1af25",
   "metadata": {},
   "outputs": [
    {
     "data": {
      "text/html": [
       "<div>\n",
       "<style scoped>\n",
       "    .dataframe tbody tr th:only-of-type {\n",
       "        vertical-align: middle;\n",
       "    }\n",
       "\n",
       "    .dataframe tbody tr th {\n",
       "        vertical-align: top;\n",
       "    }\n",
       "\n",
       "    .dataframe thead th {\n",
       "        text-align: right;\n",
       "    }\n",
       "</style>\n",
       "<table border=\"1\" class=\"dataframe\">\n",
       "  <thead>\n",
       "    <tr style=\"text-align: right;\">\n",
       "      <th></th>\n",
       "      <th>event_type</th>\n",
       "      <th>date</th>\n",
       "    </tr>\n",
       "  </thead>\n",
       "  <tbody>\n",
       "    <tr>\n",
       "      <th>202</th>\n",
       "      <td>1</td>\n",
       "      <td>2019-10-01</td>\n",
       "    </tr>\n",
       "    <tr>\n",
       "      <th>204</th>\n",
       "      <td>1</td>\n",
       "      <td>2019-10-01</td>\n",
       "    </tr>\n",
       "    <tr>\n",
       "      <th>205</th>\n",
       "      <td>1</td>\n",
       "      <td>2019-10-01</td>\n",
       "    </tr>\n",
       "    <tr>\n",
       "      <th>206</th>\n",
       "      <td>1</td>\n",
       "      <td>2019-10-01</td>\n",
       "    </tr>\n",
       "    <tr>\n",
       "      <th>207</th>\n",
       "      <td>1</td>\n",
       "      <td>2019-10-01</td>\n",
       "    </tr>\n",
       "  </tbody>\n",
       "</table>\n",
       "</div>"
      ],
      "text/plain": [
       "     event_type        date\n",
       "202           1  2019-10-01\n",
       "204           1  2019-10-01\n",
       "205           1  2019-10-01\n",
       "206           1  2019-10-01\n",
       "207           1  2019-10-01"
      ]
     },
     "execution_count": 21,
     "metadata": {},
     "output_type": "execute_result"
    }
   ],
   "source": [
    "timeseries_purchase_df.head()"
   ]
  },
  {
   "cell_type": "code",
   "execution_count": 22,
   "id": "a4808638",
   "metadata": {},
   "outputs": [
    {
     "data": {
      "text/html": [
       "<div>\n",
       "<style scoped>\n",
       "    .dataframe tbody tr th:only-of-type {\n",
       "        vertical-align: middle;\n",
       "    }\n",
       "\n",
       "    .dataframe tbody tr th {\n",
       "        vertical-align: top;\n",
       "    }\n",
       "\n",
       "    .dataframe thead th {\n",
       "        text-align: right;\n",
       "    }\n",
       "</style>\n",
       "<table border=\"1\" class=\"dataframe\">\n",
       "  <thead>\n",
       "    <tr style=\"text-align: right;\">\n",
       "      <th></th>\n",
       "      <th>date</th>\n",
       "      <th>event_type</th>\n",
       "    </tr>\n",
       "  </thead>\n",
       "  <tbody>\n",
       "    <tr>\n",
       "      <th>202</th>\n",
       "      <td>2019-10-01</td>\n",
       "      <td>1</td>\n",
       "    </tr>\n",
       "    <tr>\n",
       "      <th>204</th>\n",
       "      <td>2019-10-01</td>\n",
       "      <td>1</td>\n",
       "    </tr>\n",
       "    <tr>\n",
       "      <th>205</th>\n",
       "      <td>2019-10-01</td>\n",
       "      <td>1</td>\n",
       "    </tr>\n",
       "    <tr>\n",
       "      <th>206</th>\n",
       "      <td>2019-10-01</td>\n",
       "      <td>1</td>\n",
       "    </tr>\n",
       "    <tr>\n",
       "      <th>207</th>\n",
       "      <td>2019-10-01</td>\n",
       "      <td>1</td>\n",
       "    </tr>\n",
       "  </tbody>\n",
       "</table>\n",
       "</div>"
      ],
      "text/plain": [
       "           date  event_type\n",
       "202  2019-10-01           1\n",
       "204  2019-10-01           1\n",
       "205  2019-10-01           1\n",
       "206  2019-10-01           1\n",
       "207  2019-10-01           1"
      ]
     },
     "execution_count": 22,
     "metadata": {},
     "output_type": "execute_result"
    }
   ],
   "source": [
    "timeseries_purchase_df = timeseries_purchase_df.iloc[:,[1,0]]\n",
    "timeseries_purchase_df.head()"
   ]
  },
  {
   "cell_type": "code",
   "execution_count": 23,
   "id": "d2b4624b",
   "metadata": {},
   "outputs": [
    {
     "name": "stdout",
     "output_type": "stream",
     "text": [
      "<class 'pandas.core.frame.DataFrame'>\n",
      "Int64Index: 4469 entries, 202 to 20256\n",
      "Data columns (total 2 columns):\n",
      " #   Column      Non-Null Count  Dtype \n",
      "---  ------      --------------  ----- \n",
      " 0   date        4469 non-null   object\n",
      " 1   event_type  4469 non-null   int64 \n",
      "dtypes: int64(1), object(1)\n",
      "memory usage: 104.7+ KB\n"
     ]
    }
   ],
   "source": [
    "timeseries_purchase_df.info()"
   ]
  },
  {
   "cell_type": "code",
   "execution_count": 24,
   "id": "b0602555",
   "metadata": {},
   "outputs": [
    {
     "name": "stdout",
     "output_type": "stream",
     "text": [
      "<class 'pandas.core.frame.DataFrame'>\n",
      "Int64Index: 4469 entries, 202 to 20256\n",
      "Data columns (total 2 columns):\n",
      " #   Column      Non-Null Count  Dtype         \n",
      "---  ------      --------------  -----         \n",
      " 0   date        4469 non-null   datetime64[ns]\n",
      " 1   event_type  4469 non-null   int64         \n",
      "dtypes: datetime64[ns](1), int64(1)\n",
      "memory usage: 104.7 KB\n"
     ]
    }
   ],
   "source": [
    "timeseries_purchase_df['date'] = pd.to_datetime(timeseries_purchase_df['date'])\n",
    "timeseries_purchase_df.info()"
   ]
  },
  {
   "cell_type": "code",
   "execution_count": 25,
   "id": "f7c7b795",
   "metadata": {},
   "outputs": [
    {
     "data": {
      "text/html": [
       "<div>\n",
       "<style scoped>\n",
       "    .dataframe tbody tr th:only-of-type {\n",
       "        vertical-align: middle;\n",
       "    }\n",
       "\n",
       "    .dataframe tbody tr th {\n",
       "        vertical-align: top;\n",
       "    }\n",
       "\n",
       "    .dataframe thead th {\n",
       "        text-align: right;\n",
       "    }\n",
       "</style>\n",
       "<table border=\"1\" class=\"dataframe\">\n",
       "  <thead>\n",
       "    <tr style=\"text-align: right;\">\n",
       "      <th></th>\n",
       "      <th>event_type</th>\n",
       "    </tr>\n",
       "    <tr>\n",
       "      <th>date</th>\n",
       "      <th></th>\n",
       "    </tr>\n",
       "  </thead>\n",
       "  <tbody>\n",
       "    <tr>\n",
       "      <th>2019-10-01</th>\n",
       "      <td>1515</td>\n",
       "    </tr>\n",
       "    <tr>\n",
       "      <th>2019-10-02</th>\n",
       "      <td>0</td>\n",
       "    </tr>\n",
       "    <tr>\n",
       "      <th>2019-10-03</th>\n",
       "      <td>0</td>\n",
       "    </tr>\n",
       "    <tr>\n",
       "      <th>2019-10-04</th>\n",
       "      <td>0</td>\n",
       "    </tr>\n",
       "    <tr>\n",
       "      <th>2019-10-05</th>\n",
       "      <td>0</td>\n",
       "    </tr>\n",
       "  </tbody>\n",
       "</table>\n",
       "</div>"
      ],
      "text/plain": [
       "            event_type\n",
       "date                  \n",
       "2019-10-01        1515\n",
       "2019-10-02           0\n",
       "2019-10-03           0\n",
       "2019-10-04           0\n",
       "2019-10-05           0"
      ]
     },
     "execution_count": 25,
     "metadata": {},
     "output_type": "execute_result"
    }
   ],
   "source": [
    "grouped_df = timeseries_purchase_df.groupby(pd.Grouper(key='date',axis=0,freq='1D', sort=True)).sum()\n",
    "grouped_df.head()"
   ]
  },
  {
   "cell_type": "code",
   "execution_count": 61,
   "id": "50a4d7bc",
   "metadata": {},
   "outputs": [
    {
     "data": {
      "text/html": [
       "<div>\n",
       "<style scoped>\n",
       "    .dataframe tbody tr th:only-of-type {\n",
       "        vertical-align: middle;\n",
       "    }\n",
       "\n",
       "    .dataframe tbody tr th {\n",
       "        vertical-align: top;\n",
       "    }\n",
       "\n",
       "    .dataframe thead th {\n",
       "        text-align: right;\n",
       "    }\n",
       "</style>\n",
       "<table border=\"1\" class=\"dataframe\">\n",
       "  <thead>\n",
       "    <tr style=\"text-align: right;\">\n",
       "      <th></th>\n",
       "      <th>event_type</th>\n",
       "    </tr>\n",
       "    <tr>\n",
       "      <th>date</th>\n",
       "      <th></th>\n",
       "    </tr>\n",
       "  </thead>\n",
       "  <tbody>\n",
       "    <tr>\n",
       "      <th>2019-11-12</th>\n",
       "      <td>0</td>\n",
       "    </tr>\n",
       "    <tr>\n",
       "      <th>2019-11-13</th>\n",
       "      <td>0</td>\n",
       "    </tr>\n",
       "    <tr>\n",
       "      <th>2019-11-14</th>\n",
       "      <td>0</td>\n",
       "    </tr>\n",
       "    <tr>\n",
       "      <th>2019-11-15</th>\n",
       "      <td>0</td>\n",
       "    </tr>\n",
       "    <tr>\n",
       "      <th>2019-11-16</th>\n",
       "      <td>0</td>\n",
       "    </tr>\n",
       "    <tr>\n",
       "      <th>2019-11-17</th>\n",
       "      <td>0</td>\n",
       "    </tr>\n",
       "    <tr>\n",
       "      <th>2019-11-18</th>\n",
       "      <td>0</td>\n",
       "    </tr>\n",
       "    <tr>\n",
       "      <th>2019-11-19</th>\n",
       "      <td>0</td>\n",
       "    </tr>\n",
       "    <tr>\n",
       "      <th>2019-11-20</th>\n",
       "      <td>0</td>\n",
       "    </tr>\n",
       "    <tr>\n",
       "      <th>2019-11-21</th>\n",
       "      <td>0</td>\n",
       "    </tr>\n",
       "    <tr>\n",
       "      <th>2019-11-22</th>\n",
       "      <td>0</td>\n",
       "    </tr>\n",
       "    <tr>\n",
       "      <th>2019-11-23</th>\n",
       "      <td>0</td>\n",
       "    </tr>\n",
       "    <tr>\n",
       "      <th>2019-11-24</th>\n",
       "      <td>0</td>\n",
       "    </tr>\n",
       "    <tr>\n",
       "      <th>2019-11-25</th>\n",
       "      <td>0</td>\n",
       "    </tr>\n",
       "    <tr>\n",
       "      <th>2019-11-26</th>\n",
       "      <td>0</td>\n",
       "    </tr>\n",
       "    <tr>\n",
       "      <th>2019-11-27</th>\n",
       "      <td>0</td>\n",
       "    </tr>\n",
       "    <tr>\n",
       "      <th>2019-11-28</th>\n",
       "      <td>0</td>\n",
       "    </tr>\n",
       "    <tr>\n",
       "      <th>2019-11-29</th>\n",
       "      <td>0</td>\n",
       "    </tr>\n",
       "    <tr>\n",
       "      <th>2019-11-30</th>\n",
       "      <td>0</td>\n",
       "    </tr>\n",
       "    <tr>\n",
       "      <th>2019-12-01</th>\n",
       "      <td>1343</td>\n",
       "    </tr>\n",
       "    <tr>\n",
       "      <th>2019-12-02</th>\n",
       "      <td>0</td>\n",
       "    </tr>\n",
       "    <tr>\n",
       "      <th>2019-12-03</th>\n",
       "      <td>0</td>\n",
       "    </tr>\n",
       "    <tr>\n",
       "      <th>2019-12-04</th>\n",
       "      <td>0</td>\n",
       "    </tr>\n",
       "    <tr>\n",
       "      <th>2019-12-05</th>\n",
       "      <td>0</td>\n",
       "    </tr>\n",
       "    <tr>\n",
       "      <th>2019-12-06</th>\n",
       "      <td>0</td>\n",
       "    </tr>\n",
       "    <tr>\n",
       "      <th>2019-12-07</th>\n",
       "      <td>0</td>\n",
       "    </tr>\n",
       "    <tr>\n",
       "      <th>2019-12-08</th>\n",
       "      <td>0</td>\n",
       "    </tr>\n",
       "    <tr>\n",
       "      <th>2019-12-09</th>\n",
       "      <td>0</td>\n",
       "    </tr>\n",
       "    <tr>\n",
       "      <th>2019-12-10</th>\n",
       "      <td>0</td>\n",
       "    </tr>\n",
       "    <tr>\n",
       "      <th>2019-12-11</th>\n",
       "      <td>0</td>\n",
       "    </tr>\n",
       "    <tr>\n",
       "      <th>2019-12-12</th>\n",
       "      <td>0</td>\n",
       "    </tr>\n",
       "    <tr>\n",
       "      <th>2019-12-13</th>\n",
       "      <td>0</td>\n",
       "    </tr>\n",
       "    <tr>\n",
       "      <th>2019-12-14</th>\n",
       "      <td>0</td>\n",
       "    </tr>\n",
       "    <tr>\n",
       "      <th>2019-12-15</th>\n",
       "      <td>0</td>\n",
       "    </tr>\n",
       "    <tr>\n",
       "      <th>2019-12-16</th>\n",
       "      <td>0</td>\n",
       "    </tr>\n",
       "    <tr>\n",
       "      <th>2019-12-17</th>\n",
       "      <td>0</td>\n",
       "    </tr>\n",
       "    <tr>\n",
       "      <th>2019-12-18</th>\n",
       "      <td>0</td>\n",
       "    </tr>\n",
       "    <tr>\n",
       "      <th>2019-12-19</th>\n",
       "      <td>0</td>\n",
       "    </tr>\n",
       "    <tr>\n",
       "      <th>2019-12-20</th>\n",
       "      <td>0</td>\n",
       "    </tr>\n",
       "    <tr>\n",
       "      <th>2019-12-21</th>\n",
       "      <td>0</td>\n",
       "    </tr>\n",
       "    <tr>\n",
       "      <th>2019-12-22</th>\n",
       "      <td>0</td>\n",
       "    </tr>\n",
       "    <tr>\n",
       "      <th>2019-12-23</th>\n",
       "      <td>0</td>\n",
       "    </tr>\n",
       "    <tr>\n",
       "      <th>2019-12-24</th>\n",
       "      <td>0</td>\n",
       "    </tr>\n",
       "    <tr>\n",
       "      <th>2019-12-25</th>\n",
       "      <td>0</td>\n",
       "    </tr>\n",
       "    <tr>\n",
       "      <th>2019-12-26</th>\n",
       "      <td>0</td>\n",
       "    </tr>\n",
       "    <tr>\n",
       "      <th>2019-12-27</th>\n",
       "      <td>0</td>\n",
       "    </tr>\n",
       "    <tr>\n",
       "      <th>2019-12-28</th>\n",
       "      <td>0</td>\n",
       "    </tr>\n",
       "    <tr>\n",
       "      <th>2019-12-29</th>\n",
       "      <td>0</td>\n",
       "    </tr>\n",
       "    <tr>\n",
       "      <th>2019-12-30</th>\n",
       "      <td>0</td>\n",
       "    </tr>\n",
       "    <tr>\n",
       "      <th>2019-12-31</th>\n",
       "      <td>3</td>\n",
       "    </tr>\n",
       "  </tbody>\n",
       "</table>\n",
       "</div>"
      ],
      "text/plain": [
       "            event_type\n",
       "date                  \n",
       "2019-11-12           0\n",
       "2019-11-13           0\n",
       "2019-11-14           0\n",
       "2019-11-15           0\n",
       "2019-11-16           0\n",
       "2019-11-17           0\n",
       "2019-11-18           0\n",
       "2019-11-19           0\n",
       "2019-11-20           0\n",
       "2019-11-21           0\n",
       "2019-11-22           0\n",
       "2019-11-23           0\n",
       "2019-11-24           0\n",
       "2019-11-25           0\n",
       "2019-11-26           0\n",
       "2019-11-27           0\n",
       "2019-11-28           0\n",
       "2019-11-29           0\n",
       "2019-11-30           0\n",
       "2019-12-01        1343\n",
       "2019-12-02           0\n",
       "2019-12-03           0\n",
       "2019-12-04           0\n",
       "2019-12-05           0\n",
       "2019-12-06           0\n",
       "2019-12-07           0\n",
       "2019-12-08           0\n",
       "2019-12-09           0\n",
       "2019-12-10           0\n",
       "2019-12-11           0\n",
       "2019-12-12           0\n",
       "2019-12-13           0\n",
       "2019-12-14           0\n",
       "2019-12-15           0\n",
       "2019-12-16           0\n",
       "2019-12-17           0\n",
       "2019-12-18           0\n",
       "2019-12-19           0\n",
       "2019-12-20           0\n",
       "2019-12-21           0\n",
       "2019-12-22           0\n",
       "2019-12-23           0\n",
       "2019-12-24           0\n",
       "2019-12-25           0\n",
       "2019-12-26           0\n",
       "2019-12-27           0\n",
       "2019-12-28           0\n",
       "2019-12-29           0\n",
       "2019-12-30           0\n",
       "2019-12-31           3"
      ]
     },
     "execution_count": 61,
     "metadata": {},
     "output_type": "execute_result"
    }
   ],
   "source": [
    "grouped_df.tail(50)"
   ]
  },
  {
   "cell_type": "code",
   "execution_count": 57,
   "id": "2d7976a8",
   "metadata": {},
   "outputs": [
    {
     "data": {
      "text/plain": [
       "[<matplotlib.lines.Line2D at 0x207001de1c0>]"
      ]
     },
     "execution_count": 57,
     "metadata": {},
     "output_type": "execute_result"
    },
    {
     "data": {
      "image/png": "[encoded data removed]",
      "text/plain": [
       "<Figure size 720x360 with 1 Axes>"
      ]
     },
     "metadata": {},
     "output_type": "display_data"
    }
   ],
   "source": [
    "plt.figure(figsize=(10,5))\n",
    "plt.title('Timeseries-Plot')\n",
    "plt.xlabel('Date')\n",
    "plt.ylabel('Sales')\n",
    "plt.plot(grouped_df)"
   ]
  },
  {
   "cell_type": "code",
   "execution_count": 99,
   "id": "b06b9e29",
   "metadata": {},
   "outputs": [
    {
     "name": "stdout",
     "output_type": "stream",
     "text": [
      "Dickey-Fuller test: \n",
      "Test statistic          -1.158956e+01\n",
      "p-value                  2.813457e-21\n",
      "lags used                0.000000e+00\n",
      "No. of obs               9.100000e+01\n",
      "Critical  Value (1%)    -3.504343e+00\n",
      "Critical  Value (5%)    -2.893866e+00\n",
      "Critical  Value (10%)   -2.584015e+00\n",
      "dtype: float64\n"
     ]
    }
   ],
   "source": [
    "from statsmodels.tsa.stattools import adfuller\n",
    "print(\"Dickey-Fuller test: \")\n",
    "dftest = adfuller(grouped_df['event_type'],autolag='AIC')\n",
    "dfoutput = pd.Series(dftest[0:4],index=['Test statistic','p-value','lags used','No. of obs'])\n",
    "for key,value in dftest[4].items():\n",
    "    dfoutput['Critical  Value (%s)'%key] = value\n",
    "print(dfoutput)"
   ]
  },
  {
   "cell_type": "code",
   "execution_count": 330,
   "id": "2c11a30b",
   "metadata": {},
   "outputs": [],
   "source": [
    "data = grouped_df"
   ]
  },
  {
   "cell_type": "code",
   "execution_count": 101,
   "id": "7443d3a3",
   "metadata": {},
   "outputs": [
    {
     "name": "stdout",
     "output_type": "stream",
     "text": [
      "            event_type\n",
      "date                  \n",
      "2019-10-01         NaN\n",
      "2019-10-02         NaN\n",
      "2019-10-03         NaN\n",
      "2019-10-04         NaN\n",
      "2019-10-05         NaN\n",
      "2019-10-06         NaN\n",
      "2019-10-07         NaN\n",
      "2019-10-08         NaN\n",
      "2019-10-09         NaN\n",
      "2019-10-10         NaN\n",
      "2019-10-11         NaN\n",
      "2019-10-12      126.25\n",
      "2019-10-13        0.00\n",
      "2019-10-14        0.00\n",
      "2019-10-15        0.00\n",
      "            event_type\n",
      "date                  \n",
      "2019-10-01         NaN\n",
      "2019-10-02         NaN\n",
      "2019-10-03         NaN\n",
      "2019-10-04         NaN\n",
      "2019-10-05         NaN\n",
      "2019-10-06         NaN\n",
      "2019-10-07         NaN\n",
      "2019-10-08         NaN\n",
      "2019-10-09         NaN\n",
      "2019-10-10         NaN\n",
      "2019-10-11         NaN\n",
      "2019-10-12  437.342829\n",
      "2019-10-13    0.000000\n",
      "2019-10-14    0.000000\n",
      "2019-10-15    0.000000\n"
     ]
    }
   ],
   "source": [
    "rolmean= data.rolling(window=12).mean()\n",
    "rolstd = data.rolling(window=12).std()\n",
    "print(rolmean.head(15))\n",
    "print(rolstd.head(15))"
   ]
  },
  {
   "cell_type": "code",
   "execution_count": 102,
   "id": "7dbce3b7",
   "metadata": {},
   "outputs": [
    {
     "data": {
      "image/png": "[encoded data removed]",
      "text/plain": [
       "<Figure size 1440x720 with 1 Axes>"
      ]
     },
     "metadata": {},
     "output_type": "display_data"
    }
   ],
   "source": [
    "plt.figure(figsize=(20,10))\n",
    "actual=plt.plot(data,color='red',label='Actual')\n",
    "mean_6 = plt.plot(rolmean,color='green',label='rolling mean')\n",
    "std_6=plt.plot(rolstd,color='black',label='Rolling std')\n",
    "plt.legend(loc='best')\n",
    "plt.title(\"Rolling mean and standard deviation\")\n",
    "plt.show(block=False)"
   ]
  },
  {
   "cell_type": "code",
   "execution_count": 103,
   "id": "be1e2216",
   "metadata": {},
   "outputs": [],
   "source": [
    "def stationarity(timeseries):\n",
    "    \n",
    "    rolmean = timeseries.rolling(window=12).mean()\n",
    "    rolstd = timeseries.rolling(window=12).std()\n",
    "    \n",
    "    plt.figure(figsize=(20,10))\n",
    "    actual=plt.plot(timeseries,color='red',label='Actual')\n",
    "    mean_6 = plt.plot(rolmean,color='green',label='rolling mean')\n",
    "    std_6=plt.plot(rolstd,color='black',label='Rolling std')\n",
    "    plt.legend(loc='best')\n",
    "    plt.title(\"Rolling mean and standard deviation\")\n",
    "    plt.show(block=False)\n",
    "    \n",
    "    print(\"Dickey-Fuller test: \")\n",
    "    dftest = adfuller(timeseries['event_type'],autolag='AIC')\n",
    "    dfoutput = pd.Series(dftest[0:4],index=['Test statistic','p-value','lags used','No. of obs'])\n",
    "    for key,value in dftest[4].items():\n",
    "        dfoutput['Critical  Value (%s)'%key] = value\n",
    "    print(dfoutput)"
   ]
  },
  {
   "cell_type": "code",
   "execution_count": 331,
   "id": "3f500a6e",
   "metadata": {},
   "outputs": [
    {
     "data": {
      "image/png": "[encoded data removed]",
      "text/plain": [
       "<Figure size 1440x720 with 1 Axes>"
      ]
     },
     "metadata": {},
     "output_type": "display_data"
    },
    {
     "name": "stdout",
     "output_type": "stream",
     "text": [
      "Dickey-Fuller test: \n",
      "Test statistic          -1.158956e+01\n",
      "p-value                  2.813457e-21\n",
      "lags used                0.000000e+00\n",
      "No. of obs               9.100000e+01\n",
      "Critical  Value (1%)    -3.504343e+00\n",
      "Critical  Value (5%)    -2.893866e+00\n",
      "Critical  Value (10%)   -2.584015e+00\n",
      "dtype: float64\n"
     ]
    }
   ],
   "source": [
    "stationarity(data)"
   ]
  },
  {
   "cell_type": "code",
   "execution_count": 332,
   "id": "75fa98f9",
   "metadata": {},
   "outputs": [
    {
     "data": {
      "text/html": [
       "<div>\n",
       "<style scoped>\n",
       "    .dataframe tbody tr th:only-of-type {\n",
       "        vertical-align: middle;\n",
       "    }\n",
       "\n",
       "    .dataframe tbody tr th {\n",
       "        vertical-align: top;\n",
       "    }\n",
       "\n",
       "    .dataframe thead th {\n",
       "        text-align: right;\n",
       "    }\n",
       "</style>\n",
       "<table border=\"1\" class=\"dataframe\">\n",
       "  <thead>\n",
       "    <tr style=\"text-align: right;\">\n",
       "      <th></th>\n",
       "      <th>event_type</th>\n",
       "    </tr>\n",
       "    <tr>\n",
       "      <th>date</th>\n",
       "      <th></th>\n",
       "    </tr>\n",
       "  </thead>\n",
       "  <tbody>\n",
       "    <tr>\n",
       "      <th>2019-10-01</th>\n",
       "      <td>1515</td>\n",
       "    </tr>\n",
       "    <tr>\n",
       "      <th>2019-10-02</th>\n",
       "      <td>0</td>\n",
       "    </tr>\n",
       "    <tr>\n",
       "      <th>2019-10-03</th>\n",
       "      <td>0</td>\n",
       "    </tr>\n",
       "    <tr>\n",
       "      <th>2019-10-04</th>\n",
       "      <td>0</td>\n",
       "    </tr>\n",
       "    <tr>\n",
       "      <th>2019-10-05</th>\n",
       "      <td>0</td>\n",
       "    </tr>\n",
       "  </tbody>\n",
       "</table>\n",
       "</div>"
      ],
      "text/plain": [
       "            event_type\n",
       "date                  \n",
       "2019-10-01        1515\n",
       "2019-10-02           0\n",
       "2019-10-03           0\n",
       "2019-10-04           0\n",
       "2019-10-05           0"
      ]
     },
     "execution_count": 332,
     "metadata": {},
     "output_type": "execute_result"
    }
   ],
   "source": [
    "data = data.dropna()\n",
    "data.head()"
   ]
  },
  {
   "cell_type": "code",
   "execution_count": 423,
   "id": "5f1a5e4d",
   "metadata": {},
   "outputs": [
    {
     "data": {
      "image/png": "[encoded data removed]",
      "text/plain": [
       "<Figure size 720x360 with 4 Axes>"
      ]
     },
     "metadata": {},
     "output_type": "display_data"
    }
   ],
   "source": [
    "from statsmodels.tsa.seasonal import seasonal_decompose\n",
    "decomp = seasonal_decompose(data)\n",
    "\n",
    "trend = decomp.trend\n",
    "seasonal = decomp.seasonal\n",
    "residual = decomp.resid\n",
    "plt.figure(figsize = (10,5))\n",
    "plt.subplot(411)\n",
    "plt.plot(data,label='original')\n",
    "plt.legend(loc='best')\n",
    "\n",
    "plt.subplot(412)\n",
    "plt.plot(trend,label='trend')\n",
    "plt.legend(loc='best')\n",
    "\n",
    "plt.subplot(413)\n",
    "plt.plot(seasonal,label='seasonality')\n",
    "plt.legend(loc='best')\n",
    "\n",
    "plt.subplot(414)\n",
    "plt.plot(residual,label='Residuals')\n",
    "plt.legend(loc='best')\n",
    "plt.tight_layout()"
   ]
  },
  {
   "cell_type": "code",
   "execution_count": 334,
   "id": "da368a4a",
   "metadata": {},
   "outputs": [
    {
     "data": {
      "text/plain": [
       "Text(0.5, 1.0, 'Partial AutoCorrelation Function')"
      ]
     },
     "execution_count": 334,
     "metadata": {},
     "output_type": "execute_result"
    },
    {
     "data": {
      "image/png": "[encoded data removed]",
      "text/plain": [
       "<Figure size 1440x720 with 2 Axes>"
      ]
     },
     "metadata": {},
     "output_type": "display_data"
    }
   ],
   "source": [
    "from statsmodels.tsa.stattools import acf,pacf\n",
    "\n",
    "lag_acf = acf(data, nlags=20)\n",
    "lag_pacf = pacf(data, nlags=20, method='ols')\n",
    "\n",
    "plt.figure(figsize=(20,10))\n",
    "plt.subplot(121)\n",
    "plt.plot(lag_acf)\n",
    "plt.axhline(y=0,linestyle='--',color='green')\n",
    "plt.axhline(y = -1.96/np.sqrt(len(data)),linestyle='--',color='green')\n",
    "plt.axhline(y = 1.96/np.sqrt(len(data)),linestyle='--',color='green')\n",
    "plt.title('AutoCorrelation Function')\n",
    "\n",
    "plt.subplot(122)\n",
    "plt.plot(lag_pacf)\n",
    "plt.axhline(y=0,linestyle='--',color='green')\n",
    "plt.axhline(y = -1.96/np.sqrt(len(data)),linestyle='--',color='green')\n",
    "plt.axhline(y = 1.96/np.sqrt(len(data)),linestyle='--',color='green')\n",
    "plt.title('Partial AutoCorrelation Function')"
   ]
  },
  {
   "cell_type": "code",
   "execution_count": 473,
   "id": "d6c9cf4c",
   "metadata": {},
   "outputs": [
    {
     "data": {
      "text/plain": [
       "<Figure size 360x360 with 0 Axes>"
      ]
     },
     "metadata": {},
     "output_type": "display_data"
    }
   ],
   "source": [
    "#take first order difference\n",
    "data_1 = data['event_type'].diff(2)\n",
    "data_1.dropna(inplace=True)\n",
    "plt.figure(figsize=(5,5))\n",
    "#fig = seasonal_decompose(data_1, model='additive', freq=30).plot()\n",
    "plt.tight_layout()"
   ]
  },
  {
   "cell_type": "code",
   "execution_count": 482,
   "id": "cf12c001",
   "metadata": {},
   "outputs": [
    {
     "data": {
      "text/plain": [
       "date\n",
       "2019-10-03   -1515.0\n",
       "2019-10-04       0.0\n",
       "2019-10-05       0.0\n",
       "2019-10-06       0.0\n",
       "2019-10-07       0.0\n",
       "2019-10-08       0.0\n",
       "2019-10-09       0.0\n",
       "2019-10-10       0.0\n",
       "2019-10-11       0.0\n",
       "2019-10-12       0.0\n",
       "2019-10-13       0.0\n",
       "2019-10-14       0.0\n",
       "2019-10-15       0.0\n",
       "2019-10-16       0.0\n",
       "2019-10-17       0.0\n",
       "2019-10-18       0.0\n",
       "2019-10-19       0.0\n",
       "2019-10-20       0.0\n",
       "2019-10-21       0.0\n",
       "2019-10-22       0.0\n",
       "2019-10-23       0.0\n",
       "2019-10-24       0.0\n",
       "2019-10-25       0.0\n",
       "2019-10-26       0.0\n",
       "2019-10-27       0.0\n",
       "2019-10-28       0.0\n",
       "2019-10-29       0.0\n",
       "2019-10-30       0.0\n",
       "2019-10-31     207.0\n",
       "2019-11-01    1401.0\n",
       "2019-11-02    -207.0\n",
       "2019-11-03   -1401.0\n",
       "2019-11-04       0.0\n",
       "2019-11-05       0.0\n",
       "2019-11-06       0.0\n",
       "2019-11-07       0.0\n",
       "2019-11-08       0.0\n",
       "2019-11-09       0.0\n",
       "2019-11-10       0.0\n",
       "2019-11-11       0.0\n",
       "2019-11-12       0.0\n",
       "2019-11-13       0.0\n",
       "2019-11-14       0.0\n",
       "2019-11-15       0.0\n",
       "2019-11-16       0.0\n",
       "2019-11-17       0.0\n",
       "2019-11-18       0.0\n",
       "2019-11-19       0.0\n",
       "2019-11-20       0.0\n",
       "2019-11-21       0.0\n",
       "Freq: D, Name: event_type, dtype: float64"
      ]
     },
     "execution_count": 482,
     "metadata": {},
     "output_type": "execute_result"
    }
   ],
   "source": [
    "data_1.head(50)"
   ]
  },
  {
   "cell_type": "code",
   "execution_count": 474,
   "id": "02a580b3",
   "metadata": {},
   "outputs": [
    {
     "data": {
      "image/png": "[encoded data removed]",
      "text/plain": [
       "<Figure size 720x360 with 4 Axes>"
      ]
     },
     "metadata": {},
     "output_type": "display_data"
    }
   ],
   "source": [
    "from statsmodels.tsa.seasonal import seasonal_decompose\n",
    "decomp = seasonal_decompose(data_1)\n",
    "\n",
    "trend = decomp.trend\n",
    "seasonal = decomp.seasonal\n",
    "residual = decomp.resid\n",
    "plt.figure(figsize = (10,5))\n",
    "plt.subplot(411)\n",
    "plt.plot(data_1,label='original')\n",
    "plt.legend(loc='best')\n",
    "\n",
    "plt.subplot(412)\n",
    "plt.plot(trend,label='trend')\n",
    "plt.legend(loc='best')\n",
    "\n",
    "plt.subplot(413)\n",
    "plt.plot(seasonal,label='seasonality')\n",
    "plt.legend(loc='best')\n",
    "\n",
    "plt.subplot(414)\n",
    "plt.plot(residual,label='Residuals')\n",
    "plt.legend(loc='best')\n",
    "plt.tight_layout()"
   ]
  },
  {
   "cell_type": "code",
   "execution_count": 259,
   "id": "fd7f6385",
   "metadata": {
    "collapsed": true
   },
   "outputs": [
    {
     "data": {
      "text/plain": [
       "date\n",
       "2019-10-02   -1515.0\n",
       "2019-10-03       0.0\n",
       "2019-10-04       0.0\n",
       "2019-10-05       0.0\n",
       "2019-10-06       0.0\n",
       "2019-10-07       0.0\n",
       "2019-10-08       0.0\n",
       "2019-10-09       0.0\n",
       "2019-10-10       0.0\n",
       "2019-10-11       0.0\n",
       "2019-10-12       0.0\n",
       "2019-10-13       0.0\n",
       "2019-10-14       0.0\n",
       "2019-10-15       0.0\n",
       "2019-10-16       0.0\n",
       "2019-10-17       0.0\n",
       "2019-10-18       0.0\n",
       "2019-10-19       0.0\n",
       "2019-10-20       0.0\n",
       "2019-10-21       0.0\n",
       "2019-10-22       0.0\n",
       "2019-10-23       0.0\n",
       "2019-10-24       0.0\n",
       "2019-10-25       0.0\n",
       "2019-10-26       0.0\n",
       "2019-10-27       0.0\n",
       "2019-10-28       0.0\n",
       "2019-10-29       0.0\n",
       "2019-10-30       0.0\n",
       "2019-10-31     207.0\n",
       "2019-11-01    1194.0\n",
       "2019-11-02   -1401.0\n",
       "2019-11-03       0.0\n",
       "2019-11-04       0.0\n",
       "2019-11-05       0.0\n",
       "2019-11-06       0.0\n",
       "2019-11-07       0.0\n",
       "2019-11-08       0.0\n",
       "2019-11-09       0.0\n",
       "2019-11-10       0.0\n",
       "2019-11-11       0.0\n",
       "2019-11-12       0.0\n",
       "2019-11-13       0.0\n",
       "2019-11-14       0.0\n",
       "2019-11-15       0.0\n",
       "2019-11-16       0.0\n",
       "2019-11-17       0.0\n",
       "2019-11-18       0.0\n",
       "2019-11-19       0.0\n",
       "2019-11-20       0.0\n",
       "Freq: D, Name: event_type, dtype: float64"
      ]
     },
     "execution_count": 259,
     "metadata": {},
     "output_type": "execute_result"
    }
   ],
   "source": [
    "data_1.head(50)"
   ]
  },
  {
   "cell_type": "code",
   "execution_count": 260,
   "id": "1fe64f12",
   "metadata": {
    "collapsed": true
   },
   "outputs": [
    {
     "data": {
      "text/html": [
       "<div>\n",
       "<style scoped>\n",
       "    .dataframe tbody tr th:only-of-type {\n",
       "        vertical-align: middle;\n",
       "    }\n",
       "\n",
       "    .dataframe tbody tr th {\n",
       "        vertical-align: top;\n",
       "    }\n",
       "\n",
       "    .dataframe thead th {\n",
       "        text-align: right;\n",
       "    }\n",
       "</style>\n",
       "<table border=\"1\" class=\"dataframe\">\n",
       "  <thead>\n",
       "    <tr style=\"text-align: right;\">\n",
       "      <th></th>\n",
       "      <th>event_type</th>\n",
       "      <th>forecast</th>\n",
       "    </tr>\n",
       "    <tr>\n",
       "      <th>date</th>\n",
       "      <th></th>\n",
       "      <th></th>\n",
       "    </tr>\n",
       "  </thead>\n",
       "  <tbody>\n",
       "    <tr>\n",
       "      <th>2019-10-01</th>\n",
       "      <td>NaN</td>\n",
       "      <td>NaN</td>\n",
       "    </tr>\n",
       "    <tr>\n",
       "      <th>2019-10-02</th>\n",
       "      <td>-1515.0</td>\n",
       "      <td>NaN</td>\n",
       "    </tr>\n",
       "    <tr>\n",
       "      <th>2019-10-03</th>\n",
       "      <td>0.0</td>\n",
       "      <td>NaN</td>\n",
       "    </tr>\n",
       "    <tr>\n",
       "      <th>2019-10-04</th>\n",
       "      <td>0.0</td>\n",
       "      <td>NaN</td>\n",
       "    </tr>\n",
       "    <tr>\n",
       "      <th>2019-10-05</th>\n",
       "      <td>0.0</td>\n",
       "      <td>NaN</td>\n",
       "    </tr>\n",
       "  </tbody>\n",
       "</table>\n",
       "</div>"
      ],
      "text/plain": [
       "            event_type  forecast\n",
       "date                            \n",
       "2019-10-01         NaN       NaN\n",
       "2019-10-02     -1515.0       NaN\n",
       "2019-10-03         0.0       NaN\n",
       "2019-10-04         0.0       NaN\n",
       "2019-10-05         0.0       NaN"
      ]
     },
     "execution_count": 260,
     "metadata": {},
     "output_type": "execute_result"
    }
   ],
   "source": [
    "#creating shift df\n",
    "data_shift = data-data.shift(1)\n",
    "data_shift.head()"
   ]
  },
  {
   "cell_type": "code",
   "execution_count": 97,
   "id": "67a3651a",
   "metadata": {
    "collapsed": true
   },
   "outputs": [
    {
     "data": {
      "text/html": [
       "<div>\n",
       "<style scoped>\n",
       "    .dataframe tbody tr th:only-of-type {\n",
       "        vertical-align: middle;\n",
       "    }\n",
       "\n",
       "    .dataframe tbody tr th {\n",
       "        vertical-align: top;\n",
       "    }\n",
       "\n",
       "    .dataframe thead th {\n",
       "        text-align: right;\n",
       "    }\n",
       "</style>\n",
       "<table border=\"1\" class=\"dataframe\">\n",
       "  <thead>\n",
       "    <tr style=\"text-align: right;\">\n",
       "      <th></th>\n",
       "      <th>event_type</th>\n",
       "      <th>forecast</th>\n",
       "    </tr>\n",
       "    <tr>\n",
       "      <th>date</th>\n",
       "      <th></th>\n",
       "      <th></th>\n",
       "    </tr>\n",
       "  </thead>\n",
       "  <tbody>\n",
       "    <tr>\n",
       "      <th>2019-10-01</th>\n",
       "      <td>NaN</td>\n",
       "      <td>NaN</td>\n",
       "    </tr>\n",
       "    <tr>\n",
       "      <th>2019-10-02</th>\n",
       "      <td>-1515.0</td>\n",
       "      <td>NaN</td>\n",
       "    </tr>\n",
       "    <tr>\n",
       "      <th>2019-10-03</th>\n",
       "      <td>0.0</td>\n",
       "      <td>NaN</td>\n",
       "    </tr>\n",
       "    <tr>\n",
       "      <th>2019-10-04</th>\n",
       "      <td>0.0</td>\n",
       "      <td>NaN</td>\n",
       "    </tr>\n",
       "    <tr>\n",
       "      <th>2019-10-05</th>\n",
       "      <td>0.0</td>\n",
       "      <td>NaN</td>\n",
       "    </tr>\n",
       "  </tbody>\n",
       "</table>\n",
       "</div>"
      ],
      "text/plain": [
       "            event_type  forecast\n",
       "date                            \n",
       "2019-10-01         NaN       NaN\n",
       "2019-10-02     -1515.0       NaN\n",
       "2019-10-03         0.0       NaN\n",
       "2019-10-04         0.0       NaN\n",
       "2019-10-05         0.0       NaN"
      ]
     },
     "execution_count": 97,
     "metadata": {},
     "output_type": "execute_result"
    }
   ],
   "source": [
    "data_shift.head()"
   ]
  },
  {
   "cell_type": "code",
   "execution_count": 94,
   "id": "737422cc",
   "metadata": {},
   "outputs": [],
   "source": [
    "data_shift=data_shift.dropna()"
   ]
  },
  {
   "cell_type": "code",
   "execution_count": 95,
   "id": "cd869000",
   "metadata": {
    "collapsed": true
   },
   "outputs": [
    {
     "data": {
      "image/png": "[encoded data removed]",
      "text/plain": [
       "<Figure size 1440x720 with 1 Axes>"
      ]
     },
     "metadata": {},
     "output_type": "display_data"
    },
    {
     "name": "stdout",
     "output_type": "stream",
     "text": [
      "Dickey-Fuller test: \n"
     ]
    },
    {
     "ename": "ValueError",
     "evalue": "sample size is too short to use selected regression component",
     "output_type": "error",
     "traceback": [
      "\u001b[1;31m---------------------------------------------------------------------------\u001b[0m",
      "\u001b[1;31mValueError\u001b[0m                                Traceback (most recent call last)",
      "\u001b[1;32mC:\\Users\\MYFIRS~1\\AppData\\Local\\Temp/ipykernel_25924/3822738147.py\u001b[0m in \u001b[0;36m<module>\u001b[1;34m\u001b[0m\n\u001b[1;32m----> 1\u001b[1;33m \u001b[0mstationarity\u001b[0m\u001b[1;33m(\u001b[0m\u001b[0mdata_shift\u001b[0m\u001b[1;33m)\u001b[0m\u001b[1;33m\u001b[0m\u001b[1;33m\u001b[0m\u001b[0m\n\u001b[0m",
      "\u001b[1;32mC:\\Users\\MYFIRS~1\\AppData\\Local\\Temp/ipykernel_25924/3455649293.py\u001b[0m in \u001b[0;36mstationarity\u001b[1;34m(timeseries)\u001b[0m\n\u001b[0;32m     13\u001b[0m \u001b[1;33m\u001b[0m\u001b[0m\n\u001b[0;32m     14\u001b[0m     \u001b[0mprint\u001b[0m\u001b[1;33m(\u001b[0m\u001b[1;34m\"Dickey-Fuller test: \"\u001b[0m\u001b[1;33m)\u001b[0m\u001b[1;33m\u001b[0m\u001b[1;33m\u001b[0m\u001b[0m\n\u001b[1;32m---> 15\u001b[1;33m     \u001b[0mdftest\u001b[0m \u001b[1;33m=\u001b[0m \u001b[0madfuller\u001b[0m\u001b[1;33m(\u001b[0m\u001b[0mtimeseries\u001b[0m\u001b[1;33m[\u001b[0m\u001b[1;34m'event_type'\u001b[0m\u001b[1;33m]\u001b[0m\u001b[1;33m,\u001b[0m\u001b[0mautolag\u001b[0m\u001b[1;33m=\u001b[0m\u001b[1;34m'AIC'\u001b[0m\u001b[1;33m)\u001b[0m\u001b[1;33m\u001b[0m\u001b[1;33m\u001b[0m\u001b[0m\n\u001b[0m\u001b[0;32m     16\u001b[0m     \u001b[0mdfoutput\u001b[0m \u001b[1;33m=\u001b[0m \u001b[0mpd\u001b[0m\u001b[1;33m.\u001b[0m\u001b[0mSeries\u001b[0m\u001b[1;33m(\u001b[0m\u001b[0mdftest\u001b[0m\u001b[1;33m[\u001b[0m\u001b[1;36m0\u001b[0m\u001b[1;33m:\u001b[0m\u001b[1;36m4\u001b[0m\u001b[1;33m]\u001b[0m\u001b[1;33m,\u001b[0m\u001b[0mindex\u001b[0m\u001b[1;33m=\u001b[0m\u001b[1;33m[\u001b[0m\u001b[1;34m'Test statistic'\u001b[0m\u001b[1;33m,\u001b[0m\u001b[1;34m'p-value'\u001b[0m\u001b[1;33m,\u001b[0m\u001b[1;34m'lags used'\u001b[0m\u001b[1;33m,\u001b[0m\u001b[1;34m'No. of obs'\u001b[0m\u001b[1;33m]\u001b[0m\u001b[1;33m)\u001b[0m\u001b[1;33m\u001b[0m\u001b[1;33m\u001b[0m\u001b[0m\n\u001b[0;32m     17\u001b[0m     \u001b[1;32mfor\u001b[0m \u001b[0mkey\u001b[0m\u001b[1;33m,\u001b[0m\u001b[0mvalue\u001b[0m \u001b[1;32min\u001b[0m \u001b[0mdftest\u001b[0m\u001b[1;33m[\u001b[0m\u001b[1;36m4\u001b[0m\u001b[1;33m]\u001b[0m\u001b[1;33m.\u001b[0m\u001b[0mitems\u001b[0m\u001b[1;33m(\u001b[0m\u001b[1;33m)\u001b[0m\u001b[1;33m:\u001b[0m\u001b[1;33m\u001b[0m\u001b[1;33m\u001b[0m\u001b[0m\n",
      "\u001b[1;32mD:\\Anaconda\\lib\\site-packages\\statsmodels\\tsa\\stattools.py\u001b[0m in \u001b[0;36madfuller\u001b[1;34m(x, maxlag, regression, autolag, store, regresults)\u001b[0m\n\u001b[0;32m    279\u001b[0m         \u001b[0mmaxlag\u001b[0m \u001b[1;33m=\u001b[0m \u001b[0mmin\u001b[0m\u001b[1;33m(\u001b[0m\u001b[0mnobs\u001b[0m \u001b[1;33m//\u001b[0m \u001b[1;36m2\u001b[0m \u001b[1;33m-\u001b[0m \u001b[0mntrend\u001b[0m \u001b[1;33m-\u001b[0m \u001b[1;36m1\u001b[0m\u001b[1;33m,\u001b[0m \u001b[0mmaxlag\u001b[0m\u001b[1;33m)\u001b[0m\u001b[1;33m\u001b[0m\u001b[1;33m\u001b[0m\u001b[0m\n\u001b[0;32m    280\u001b[0m         \u001b[1;32mif\u001b[0m \u001b[0mmaxlag\u001b[0m \u001b[1;33m<\u001b[0m \u001b[1;36m0\u001b[0m\u001b[1;33m:\u001b[0m\u001b[1;33m\u001b[0m\u001b[1;33m\u001b[0m\u001b[0m\n\u001b[1;32m--> 281\u001b[1;33m             raise ValueError(\n\u001b[0m\u001b[0;32m    282\u001b[0m                 \u001b[1;34m\"sample size is too short to use selected \"\u001b[0m\u001b[1;33m\u001b[0m\u001b[1;33m\u001b[0m\u001b[0m\n\u001b[0;32m    283\u001b[0m                 \u001b[1;34m\"regression component\"\u001b[0m\u001b[1;33m\u001b[0m\u001b[1;33m\u001b[0m\u001b[0m\n",
      "\u001b[1;31mValueError\u001b[0m: sample size is too short to use selected regression component"
     ]
    }
   ],
   "source": [
    "stationarity(data_shift)"
   ]
  },
  {
   "cell_type": "code",
   "execution_count": 444,
   "id": "e2ef3e3b",
   "metadata": {},
   "outputs": [
    {
     "data": {
      "image/png": "[encoded data removed]",
      "text/plain": [
       "<Figure size 720x720 with 2 Axes>"
      ]
     },
     "metadata": {},
     "output_type": "display_data"
    }
   ],
   "source": [
    "import statsmodels.api as sm\n",
    "fig, ax = plt.subplots(2)\n",
    "ax[0] = sm.graphics.tsa.plot_acf(data_1, lags=40, ax=ax[0])\n",
    "ax[1] = sm.graphics.tsa.plot_pacf(data_1, lags=40, ax=ax[1])"
   ]
  },
  {
   "cell_type": "code",
   "execution_count": 483,
   "id": "be88953d",
   "metadata": {},
   "outputs": [
    {
     "data": {
      "text/plain": [
       "Text(0.5, 1.0, 'Partial AutoCorrelation Function')"
      ]
     },
     "execution_count": 483,
     "metadata": {},
     "output_type": "execute_result"
    },
    {
     "data": {
      "image/png": "[encoded data removed]",
      "text/plain": [
       "<Figure size 720x360 with 2 Axes>"
      ]
     },
     "metadata": {},
     "output_type": "display_data"
    }
   ],
   "source": [
    "from statsmodels.tsa.stattools import acf,pacf\n",
    "\n",
    "lag_acf = acf(data_1, nlags=20)\n",
    "lag_pacf = pacf(data_1, nlags=20, method='ols')\n",
    "\n",
    "plt.figure(figsize=(10,5))\n",
    "plt.subplot(121)\n",
    "plt.plot(lag_acf)\n",
    "plt.axhline(y=0,linestyle='--',color='green')\n",
    "plt.axhline(y = -1.96/np.sqrt(len(data_1)),linestyle='--',color='green')\n",
    "plt.axhline(y = 1.96/np.sqrt(len(data_1)),linestyle='--',color='green')\n",
    "plt.title('AutoCorrelation Function')\n",
    "\n",
    "plt.subplot(122)\n",
    "\n",
    "plt.plot(lag_pacf)\n",
    "plt.axhline(y=0,linestyle='--',color='green')\n",
    "plt.axhline(y = -1.96/np.sqrt(len(data_1)),linestyle='--',color='green')\n",
    "plt.axhline(y = 1.96/np.sqrt(len(data_1)),linestyle='--',color='green')\n",
    "plt.title('Partial AutoCorrelation Function')"
   ]
  },
  {
   "cell_type": "code",
   "execution_count": 119,
   "id": "caa16e4e",
   "metadata": {},
   "outputs": [
    {
     "name": "stdout",
     "output_type": "stream",
     "text": [
      "Requirement already satisfied: statsmodels in d:\\anaconda\\lib\\site-packages (0.12.2)\n",
      "Collecting statsmodels\n",
      "  Downloading statsmodels-0.13.2-cp39-cp39-win_amd64.whl (9.1 MB)\n",
      "Requirement already satisfied: patsy>=0.5.2 in d:\\anaconda\\lib\\site-packages (from statsmodels) (0.5.2)\n",
      "Requirement already satisfied: pandas>=0.25 in d:\\anaconda\\lib\\site-packages (from statsmodels) (1.3.4)\n",
      "Requirement already satisfied: scipy>=1.3 in d:\\anaconda\\lib\\site-packages (from statsmodels) (1.7.1)\n",
      "Collecting packaging>=21.3\n",
      "  Downloading packaging-21.3-py3-none-any.whl (40 kB)\n",
      "Requirement already satisfied: numpy>=1.17 in d:\\anaconda\\lib\\site-packages (from statsmodels) (1.20.3)\n",
      "Requirement already satisfied: pyparsing!=3.0.5,>=2.0.2 in d:\\anaconda\\lib\\site-packages (from packaging>=21.3->statsmodels) (3.0.4)\n",
      "Requirement already satisfied: python-dateutil>=2.7.3 in d:\\anaconda\\lib\\site-packages (from pandas>=0.25->statsmodels) (2.8.2)\n",
      "Requirement already satisfied: pytz>=2017.3 in d:\\anaconda\\lib\\site-packages (from pandas>=0.25->statsmodels) (2021.3)\n",
      "Requirement already satisfied: six in d:\\anaconda\\lib\\site-packages (from patsy>=0.5.2->statsmodels) (1.16.0)\n",
      "Installing collected packages: packaging, statsmodels\n",
      "Successfully installed packaging-21.3 statsmodels-0.13.2\n"
     ]
    }
   ],
   "source": [
    "!pip install --user statsmodels -U"
   ]
  },
  {
   "cell_type": "code",
   "execution_count": null,
   "id": "a6019f3f",
   "metadata": {},
   "outputs": [],
   "source": []
  },
  {
   "cell_type": "code",
   "execution_count": null,
   "id": "c649d664",
   "metadata": {},
   "outputs": [],
   "source": []
  },
  {
   "cell_type": "code",
   "execution_count": null,
   "id": "d8ee4ea1",
   "metadata": {},
   "outputs": [],
   "source": []
  },
  {
   "cell_type": "code",
   "execution_count": 508,
   "id": "7b2d0146",
   "metadata": {},
   "outputs": [
    {
     "name": "stdout",
     "output_type": "stream",
     "text": [
      "plotting ARIMA model\n"
     ]
    },
    {
     "data": {
      "image/png": "[encoded data removed]",
      "text/plain": [
       "<Figure size 720x360 with 1 Axes>"
      ]
     },
     "metadata": {},
     "output_type": "display_data"
    }
   ],
   "source": [
    "from statsmodels.tsa.arima_model import ARIMA\n",
    "\n",
    "plt.figure(figsize=(10,5))\n",
    "model = ARIMA(data,order=(1,1,0))\n",
    "results = model.fit(disp=-1)\n",
    "plt.plot(data_1,label = 'differenced data')\n",
    "plt.plot(results.fittedvalues,color='red',label='prediction')\n",
    "plt.title(\"ARIMA\")\n",
    "plt.xlabel('Time')\n",
    "#plt.ylabel('sales')\n",
    "plt.legend()\n",
    "print('plotting ARIMA model')"
   ]
  },
  {
   "cell_type": "code",
   "execution_count": 454,
   "id": "34bd9606",
   "metadata": {},
   "outputs": [
    {
     "data": {
      "text/html": [
       "<table class=\"simpletable\">\n",
       "<caption>ARIMA Model Results</caption>\n",
       "<tr>\n",
       "  <th>Dep. Variable:</th>   <td>D2.event_type</td>  <th>  No. Observations:  </th>    <td>90</td>   \n",
       "</tr>\n",
       "<tr>\n",
       "  <th>Model:</th>          <td>ARIMA(1, 2, 0)</td>  <th>  Log Likelihood     </th> <td>-666.920</td>\n",
       "</tr>\n",
       "<tr>\n",
       "  <th>Method:</th>             <td>css-mle</td>     <th>  S.D. of innovations</th>  <td>398.785</td>\n",
       "</tr>\n",
       "<tr>\n",
       "  <th>Date:</th>          <td>Thu, 06 Oct 2022</td> <th>  AIC                </th> <td>1339.841</td>\n",
       "</tr>\n",
       "<tr>\n",
       "  <th>Time:</th>              <td>00:02:38</td>     <th>  BIC                </th> <td>1347.340</td>\n",
       "</tr>\n",
       "<tr>\n",
       "  <th>Sample:</th>           <td>10-03-2019</td>    <th>  HQIC               </th> <td>1342.865</td>\n",
       "</tr>\n",
       "<tr>\n",
       "  <th></th>                 <td>- 12-31-2019</td>   <th>                     </th>     <td> </td>   \n",
       "</tr>\n",
       "</table>\n",
       "<table class=\"simpletable\">\n",
       "<tr>\n",
       "           <td></td>              <th>coef</th>     <th>std err</th>      <th>z</th>      <th>P>|z|</th>  <th>[0.025</th>    <th>0.975]</th>  \n",
       "</tr>\n",
       "<tr>\n",
       "  <th>const</th>               <td>   10.4067</td> <td>   25.829</td> <td>    0.403</td> <td> 0.687</td> <td>  -40.217</td> <td>   61.030</td>\n",
       "</tr>\n",
       "<tr>\n",
       "  <th>ar.L1.D2.event_type</th> <td>   -0.6349</td> <td>    0.087</td> <td>   -7.323</td> <td> 0.000</td> <td>   -0.805</td> <td>   -0.465</td>\n",
       "</tr>\n",
       "</table>\n",
       "<table class=\"simpletable\">\n",
       "<caption>Roots</caption>\n",
       "<tr>\n",
       "    <td></td>   <th>            Real</th>  <th>         Imaginary</th> <th>         Modulus</th>  <th>        Frequency</th>\n",
       "</tr>\n",
       "<tr>\n",
       "  <th>AR.1</th> <td>          -1.5751</td> <td>          +0.0000j</td> <td>           1.5751</td> <td>           0.5000</td>\n",
       "</tr>\n",
       "</table>"
      ],
      "text/plain": [
       "<class 'statsmodels.iolib.summary.Summary'>\n",
       "\"\"\"\n",
       "                             ARIMA Model Results                              \n",
       "==============================================================================\n",
       "Dep. Variable:          D2.event_type   No. Observations:                   90\n",
       "Model:                 ARIMA(1, 2, 0)   Log Likelihood                -666.920\n",
       "Method:                       css-mle   S.D. of innovations            398.785\n",
       "Date:                Thu, 06 Oct 2022   AIC                           1339.841\n",
       "Time:                        00:02:38   BIC                           1347.340\n",
       "Sample:                    10-03-2019   HQIC                          1342.865\n",
       "                         - 12-31-2019                                         \n",
       "=======================================================================================\n",
       "                          coef    std err          z      P>|z|      [0.025      0.975]\n",
       "---------------------------------------------------------------------------------------\n",
       "const                  10.4067     25.829      0.403      0.687     -40.217      61.030\n",
       "ar.L1.D2.event_type    -0.6349      0.087     -7.323      0.000      -0.805      -0.465\n",
       "                                    Roots                                    \n",
       "=============================================================================\n",
       "                  Real          Imaginary           Modulus         Frequency\n",
       "-----------------------------------------------------------------------------\n",
       "AR.1           -1.5751           +0.0000j            1.5751            0.5000\n",
       "-----------------------------------------------------------------------------\n",
       "\"\"\""
      ]
     },
     "execution_count": 454,
     "metadata": {},
     "output_type": "execute_result"
    }
   ],
   "source": [
    "results.summary()"
   ]
  },
  {
   "cell_type": "code",
   "execution_count": 409,
   "id": "8d00a759",
   "metadata": {},
   "outputs": [
    {
     "name": "stdout",
     "output_type": "stream",
     "text": [
      "Collecting pmdarima\n",
      "  Using cached pmdarima-2.0.1-cp39-cp39-win_amd64.whl (571 kB)\n",
      "Requirement already satisfied: scikit-learn>=0.22 in d:\\anaconda\\lib\\site-packages (from pmdarima) (1.1.1)\n",
      "Requirement already satisfied: numpy>=1.21 in d:\\anaconda\\lib\\site-packages (from pmdarima) (1.22.4)\n",
      "Requirement already satisfied: setuptools!=50.0.0,>=38.6.0 in d:\\anaconda\\lib\\site-packages (from pmdarima) (58.0.4)\n",
      "Requirement already satisfied: urllib3 in d:\\anaconda\\lib\\site-packages (from pmdarima) (1.26.7)\n",
      "Requirement already satisfied: statsmodels>=0.13.2 in c:\\users\\my first dream\\appdata\\roaming\\python\\python39\\site-packages (from pmdarima) (0.13.2)\n",
      "Requirement already satisfied: joblib>=0.11 in d:\\anaconda\\lib\\site-packages (from pmdarima) (1.1.0)\n",
      "Requirement already satisfied: pandas>=0.19 in d:\\anaconda\\lib\\site-packages (from pmdarima) (1.3.4)\n",
      "Requirement already satisfied: Cython!=0.29.18,!=0.29.31,>=0.29 in d:\\anaconda\\lib\\site-packages (from pmdarima) (0.29.28)\n",
      "Requirement already satisfied: scipy>=1.3.2 in d:\\anaconda\\lib\\site-packages (from pmdarima) (1.7.1)\n",
      "Requirement already satisfied: python-dateutil>=2.7.3 in d:\\anaconda\\lib\\site-packages (from pandas>=0.19->pmdarima) (2.8.2)\n",
      "Requirement already satisfied: pytz>=2017.3 in d:\\anaconda\\lib\\site-packages (from pandas>=0.19->pmdarima) (2021.3)\n",
      "Requirement already satisfied: six>=1.5 in d:\\anaconda\\lib\\site-packages (from python-dateutil>=2.7.3->pandas>=0.19->pmdarima) (1.16.0)\n",
      "Requirement already satisfied: threadpoolctl>=2.0.0 in d:\\anaconda\\lib\\site-packages (from scikit-learn>=0.22->pmdarima) (2.2.0)\n",
      "Requirement already satisfied: packaging>=21.3 in c:\\users\\my first dream\\appdata\\roaming\\python\\python39\\site-packages (from statsmodels>=0.13.2->pmdarima) (21.3)\n",
      "Requirement already satisfied: patsy>=0.5.2 in d:\\anaconda\\lib\\site-packages (from statsmodels>=0.13.2->pmdarima) (0.5.2)\n",
      "Requirement already satisfied: pyparsing!=3.0.5,>=2.0.2 in d:\\anaconda\\lib\\site-packages (from packaging>=21.3->statsmodels>=0.13.2->pmdarima) (3.0.4)\n",
      "Installing collected packages: pmdarima\n",
      "Successfully installed pmdarima-2.0.1\n"
     ]
    }
   ],
   "source": [
    "!pip install pmdarima"
   ]
  },
  {
   "cell_type": "code",
   "execution_count": 410,
   "id": "7ce0426f",
   "metadata": {},
   "outputs": [],
   "source": [
    "import pmdarima as pm"
   ]
  },
  {
   "cell_type": "code",
   "execution_count": 411,
   "id": "4223f422",
   "metadata": {},
   "outputs": [
    {
     "name": "stdout",
     "output_type": "stream",
     "text": [
      "Performing stepwise search to minimize aic\n",
      " ARIMA(2,0,2)(1,0,1)[12] intercept   : AIC=inf, Time=0.53 sec\n",
      " ARIMA(0,0,0)(0,0,0)[12] intercept   : AIC=1283.207, Time=0.01 sec\n",
      " ARIMA(1,0,0)(1,0,0)[12] intercept   : AIC=1287.029, Time=0.15 sec\n",
      " ARIMA(0,0,1)(0,0,1)[12] intercept   : AIC=1287.013, Time=0.15 sec\n",
      " ARIMA(0,0,0)(0,0,0)[12]             : AIC=1284.538, Time=0.01 sec\n",
      " ARIMA(0,0,0)(1,0,0)[12] intercept   : AIC=1285.107, Time=0.02 sec\n",
      " ARIMA(0,0,0)(0,0,1)[12] intercept   : AIC=1285.093, Time=0.03 sec\n",
      " ARIMA(0,0,0)(1,0,1)[12] intercept   : AIC=inf, Time=0.26 sec\n",
      " ARIMA(1,0,0)(0,0,0)[12] intercept   : AIC=1285.121, Time=0.06 sec\n",
      " ARIMA(0,0,1)(0,0,0)[12] intercept   : AIC=1285.113, Time=0.07 sec\n",
      " ARIMA(1,0,1)(0,0,0)[12] intercept   : AIC=1287.181, Time=0.07 sec\n",
      "\n",
      "Best model:  ARIMA(0,0,0)(0,0,0)[12] intercept\n",
      "Total fit time: 1.384 seconds\n"
     ]
    }
   ],
   "source": [
    "model_fit = pm.auto_arima(data, test='adf', \n",
    "                         max_p=3, max_d=3, max_q=3, \n",
    "                         seasonal=True, m=12,\n",
    "                         max_P=3, max_D=2, max_Q=3,\n",
    "                         trace=True,\n",
    "                         error_action='ignore',  \n",
    "                         suppress_warnings=True, \n",
    "                         stepwise=True)"
   ]
  },
  {
   "cell_type": "code",
   "execution_count": 477,
   "id": "6d058d4f",
   "metadata": {},
   "outputs": [
    {
     "name": "stdout",
     "output_type": "stream",
     "text": [
      "date\n",
      "2019-10-03     10.406651\n",
      "2019-10-04   -944.856886\n",
      "2019-10-05     17.013814\n",
      "2019-10-06     17.013814\n",
      "2019-10-07     17.013814\n",
      "Freq: D, dtype: float64\n"
     ]
    }
   ],
   "source": [
    "predictions = pd.Series(results.fittedvalues,  copy=True)\n",
    "print(predictions.head())"
   ]
  },
  {
   "cell_type": "code",
   "execution_count": 478,
   "id": "2b778926",
   "metadata": {},
   "outputs": [
    {
     "name": "stdout",
     "output_type": "stream",
     "text": [
      "date\n",
      "2019-10-03     10.406651\n",
      "2019-10-04   -934.450235\n",
      "2019-10-05   -917.436421\n",
      "2019-10-06   -900.422607\n",
      "2019-10-07   -883.408792\n",
      "Freq: D, dtype: float64\n"
     ]
    }
   ],
   "source": [
    "predictions_cum_sum = predictions.cumsum()\n",
    "print(predictions_cum_sum.head())"
   ]
  },
  {
   "cell_type": "code",
   "execution_count": 479,
   "id": "3be97081",
   "metadata": {},
   "outputs": [
    {
     "data": {
      "text/plain": [
       "date\n",
       "2019-10-01    1515.000000\n",
       "2019-10-02    1515.000000\n",
       "2019-10-03    1525.406651\n",
       "2019-10-04     580.549765\n",
       "2019-10-05     597.563579\n",
       "Freq: D, dtype: float64"
      ]
     },
     "execution_count": 479,
     "metadata": {},
     "output_type": "execute_result"
    }
   ],
   "source": [
    "predictions_log = pd.Series(data['event_type'].iloc[0],index= data.index)\n",
    "predictions_log = predictions_log.add(predictions_cum_sum,fill_value=0)\n",
    "predictions_log.head()"
   ]
  },
  {
   "cell_type": "code",
   "execution_count": 516,
   "id": "930de7f1",
   "metadata": {
    "scrolled": false
   },
   "outputs": [
    {
     "data": {
      "text/plain": [
       "(-2000.0, 2000.0)"
      ]
     },
     "execution_count": 516,
     "metadata": {},
     "output_type": "execute_result"
    },
    {
     "data": {
      "image/png": "[encoded data removed]",
      "text/plain": [
       "<Figure size 720x360 with 1 Axes>"
      ]
     },
     "metadata": {},
     "output_type": "display_data"
    }
   ],
   "source": [
    "from matplotlib.pylab import rcParams\n",
    "rcParams['figure.figsize']=10,5\n",
    "\n",
    "results.plot_predict(1,120)\n",
    "#from statsmodels.graphics.tsaplots import plot_predict\n",
    "#plot_predict(results)\n",
    "x = results.forecast(steps=50)\n",
    "plt.ylim(top=2000,bottom=-2000)"
   ]
  },
  {
   "cell_type": "code",
   "execution_count": 208,
   "id": "63c87a78",
   "metadata": {},
   "outputs": [
    {
     "data": {
      "text/plain": [
       "<AxesSubplot:xlabel='date'>"
      ]
     },
     "execution_count": 208,
     "metadata": {},
     "output_type": "execute_result"
    },
    {
     "data": {
      "image/png": "[encoded data removed]",
      "text/plain": [
       "<Figure size 1080x576 with 1 Axes>"
      ]
     },
     "metadata": {},
     "output_type": "display_data"
    }
   ],
   "source": [
    "data_2 = data\n",
    "data_2['forecast']=results.predict(start=89,end=200,dynamic=False)\n",
    "data_2[['event_type','forecast']].plot(figsize=(15,8))"
   ]
  },
  {
   "cell_type": "code",
   "execution_count": 77,
   "id": "66996880",
   "metadata": {},
   "outputs": [],
   "source": [
    "from pandas.tseries.offsets import DateOffset\n",
    "future_dates=[data.index[-1]+ DateOffset(months=x)for x in range(0,24)]"
   ]
  },
  {
   "cell_type": "code",
   "execution_count": 78,
   "id": "4f979929",
   "metadata": {},
   "outputs": [],
   "source": [
    "future_datest_df=pd.DataFrame(index=future_dates[1:],columns=data.columns)"
   ]
  },
  {
   "cell_type": "code",
   "execution_count": 79,
   "id": "989ff1e8",
   "metadata": {},
   "outputs": [
    {
     "data": {
      "text/html": [
       "<div>\n",
       "<style scoped>\n",
       "    .dataframe tbody tr th:only-of-type {\n",
       "        vertical-align: middle;\n",
       "    }\n",
       "\n",
       "    .dataframe tbody tr th {\n",
       "        vertical-align: top;\n",
       "    }\n",
       "\n",
       "    .dataframe thead th {\n",
       "        text-align: right;\n",
       "    }\n",
       "</style>\n",
       "<table border=\"1\" class=\"dataframe\">\n",
       "  <thead>\n",
       "    <tr style=\"text-align: right;\">\n",
       "      <th></th>\n",
       "      <th>event_type</th>\n",
       "      <th>forecast</th>\n",
       "    </tr>\n",
       "  </thead>\n",
       "  <tbody>\n",
       "    <tr>\n",
       "      <th>2021-07-31</th>\n",
       "      <td>NaN</td>\n",
       "      <td>NaN</td>\n",
       "    </tr>\n",
       "    <tr>\n",
       "      <th>2021-08-31</th>\n",
       "      <td>NaN</td>\n",
       "      <td>NaN</td>\n",
       "    </tr>\n",
       "    <tr>\n",
       "      <th>2021-09-30</th>\n",
       "      <td>NaN</td>\n",
       "      <td>NaN</td>\n",
       "    </tr>\n",
       "    <tr>\n",
       "      <th>2021-10-31</th>\n",
       "      <td>NaN</td>\n",
       "      <td>NaN</td>\n",
       "    </tr>\n",
       "    <tr>\n",
       "      <th>2021-11-30</th>\n",
       "      <td>NaN</td>\n",
       "      <td>NaN</td>\n",
       "    </tr>\n",
       "  </tbody>\n",
       "</table>\n",
       "</div>"
      ],
      "text/plain": [
       "           event_type forecast\n",
       "2021-07-31        NaN      NaN\n",
       "2021-08-31        NaN      NaN\n",
       "2021-09-30        NaN      NaN\n",
       "2021-10-31        NaN      NaN\n",
       "2021-11-30        NaN      NaN"
      ]
     },
     "execution_count": 79,
     "metadata": {},
     "output_type": "execute_result"
    }
   ],
   "source": [
    "future_datest_df.tail()"
   ]
  },
  {
   "cell_type": "code",
   "execution_count": 80,
   "id": "d1d38c49",
   "metadata": {},
   "outputs": [],
   "source": [
    "future_df=pd.concat([data,future_datest_df])"
   ]
  },
  {
   "cell_type": "code",
   "execution_count": 209,
   "id": "286a5300",
   "metadata": {},
   "outputs": [
    {
     "data": {
      "text/plain": [
       "<AxesSubplot:>"
      ]
     },
     "execution_count": 209,
     "metadata": {},
     "output_type": "execute_result"
    },
    {
     "data": {
      "image/png": "[encoded data removed]",
      "text/plain": [
       "<Figure size 864x576 with 1 Axes>"
      ]
     },
     "metadata": {},
     "output_type": "display_data"
    }
   ],
   "source": [
    "future_df['forecast'] = results.predict(start = 89, end = 123, dynamic= True)  \n",
    "future_df[['event_type', 'forecast']].plot(figsize=(12, 8)) "
   ]
  },
  {
   "cell_type": "code",
   "execution_count": null,
   "id": "908aeea2",
   "metadata": {},
   "outputs": [],
   "source": []
  },
  {
   "cell_type": "code",
   "execution_count": null,
   "id": "b15968b7",
   "metadata": {},
   "outputs": [],
   "source": []
  },
  {
   "cell_type": "code",
   "execution_count": null,
   "id": "7ddd5520",
   "metadata": {},
   "outputs": [],
   "source": []
  },
  {
   "cell_type": "code",
   "execution_count": null,
   "id": "8c9185a3",
   "metadata": {},
   "outputs": [],
   "source": []
  },
  {
   "cell_type": "code",
   "execution_count": null,
   "id": "df29e24f",
   "metadata": {},
   "outputs": [],
   "source": []
  },
  {
   "cell_type": "code",
   "execution_count": null,
   "id": "462c8d11",
   "metadata": {},
   "outputs": [],
   "source": []
  },
  {
   "cell_type": "markdown",
   "id": "03f226e9",
   "metadata": {},
   "source": [
    "# Using SARIMAX"
   ]
  },
  {
   "cell_type": "code",
   "execution_count": 301,
   "id": "28baad77",
   "metadata": {},
   "outputs": [],
   "source": [
    "data = data.drop(columns=['forecast','Seasonal First Difference'],axis=1)"
   ]
  },
  {
   "cell_type": "code",
   "execution_count": 302,
   "id": "36625375",
   "metadata": {},
   "outputs": [
    {
     "data": {
      "text/html": [
       "<div>\n",
       "<style scoped>\n",
       "    .dataframe tbody tr th:only-of-type {\n",
       "        vertical-align: middle;\n",
       "    }\n",
       "\n",
       "    .dataframe tbody tr th {\n",
       "        vertical-align: top;\n",
       "    }\n",
       "\n",
       "    .dataframe thead th {\n",
       "        text-align: right;\n",
       "    }\n",
       "</style>\n",
       "<table border=\"1\" class=\"dataframe\">\n",
       "  <thead>\n",
       "    <tr style=\"text-align: right;\">\n",
       "      <th></th>\n",
       "      <th>event_type</th>\n",
       "    </tr>\n",
       "    <tr>\n",
       "      <th>date</th>\n",
       "      <th></th>\n",
       "    </tr>\n",
       "  </thead>\n",
       "  <tbody>\n",
       "    <tr>\n",
       "      <th>2019-10-01</th>\n",
       "      <td>1515</td>\n",
       "    </tr>\n",
       "    <tr>\n",
       "      <th>2019-10-02</th>\n",
       "      <td>0</td>\n",
       "    </tr>\n",
       "    <tr>\n",
       "      <th>2019-10-03</th>\n",
       "      <td>0</td>\n",
       "    </tr>\n",
       "    <tr>\n",
       "      <th>2019-10-04</th>\n",
       "      <td>0</td>\n",
       "    </tr>\n",
       "    <tr>\n",
       "      <th>2019-10-05</th>\n",
       "      <td>0</td>\n",
       "    </tr>\n",
       "  </tbody>\n",
       "</table>\n",
       "</div>"
      ],
      "text/plain": [
       "            event_type\n",
       "date                  \n",
       "2019-10-01        1515\n",
       "2019-10-02           0\n",
       "2019-10-03           0\n",
       "2019-10-04           0\n",
       "2019-10-05           0"
      ]
     },
     "execution_count": 302,
     "metadata": {},
     "output_type": "execute_result"
    }
   ],
   "source": [
    "data.head()"
   ]
  },
  {
   "cell_type": "code",
   "execution_count": 303,
   "id": "97a419b7",
   "metadata": {},
   "outputs": [
    {
     "data": {
      "text/plain": [
       "date\n",
       "2019-10-01   NaN\n",
       "2019-10-02   NaN\n",
       "2019-10-03   NaN\n",
       "2019-10-04   NaN\n",
       "2019-10-05   NaN\n",
       "Freq: D, Name: event_type, dtype: float64"
      ]
     },
     "execution_count": 303,
     "metadata": {},
     "output_type": "execute_result"
    }
   ],
   "source": [
    "data['event_type'].shift(30).head()"
   ]
  },
  {
   "cell_type": "code",
   "execution_count": 305,
   "id": "c5923b28",
   "metadata": {},
   "outputs": [],
   "source": [
    "data['Seasonal First Difference'] = data['event_type']-data['event_type'].shift(1)"
   ]
  },
  {
   "cell_type": "code",
   "execution_count": 306,
   "id": "e3dceaae",
   "metadata": {
    "collapsed": true
   },
   "outputs": [
    {
     "data": {
      "text/html": [
       "<div>\n",
       "<style scoped>\n",
       "    .dataframe tbody tr th:only-of-type {\n",
       "        vertical-align: middle;\n",
       "    }\n",
       "\n",
       "    .dataframe tbody tr th {\n",
       "        vertical-align: top;\n",
       "    }\n",
       "\n",
       "    .dataframe thead th {\n",
       "        text-align: right;\n",
       "    }\n",
       "</style>\n",
       "<table border=\"1\" class=\"dataframe\">\n",
       "  <thead>\n",
       "    <tr style=\"text-align: right;\">\n",
       "      <th></th>\n",
       "      <th>event_type</th>\n",
       "      <th>Seasonal First Difference</th>\n",
       "    </tr>\n",
       "    <tr>\n",
       "      <th>date</th>\n",
       "      <th></th>\n",
       "      <th></th>\n",
       "    </tr>\n",
       "  </thead>\n",
       "  <tbody>\n",
       "    <tr>\n",
       "      <th>2019-10-01</th>\n",
       "      <td>1515</td>\n",
       "      <td>NaN</td>\n",
       "    </tr>\n",
       "    <tr>\n",
       "      <th>2019-10-02</th>\n",
       "      <td>0</td>\n",
       "      <td>-1515.0</td>\n",
       "    </tr>\n",
       "    <tr>\n",
       "      <th>2019-10-03</th>\n",
       "      <td>0</td>\n",
       "      <td>0.0</td>\n",
       "    </tr>\n",
       "    <tr>\n",
       "      <th>2019-10-04</th>\n",
       "      <td>0</td>\n",
       "      <td>0.0</td>\n",
       "    </tr>\n",
       "    <tr>\n",
       "      <th>2019-10-05</th>\n",
       "      <td>0</td>\n",
       "      <td>0.0</td>\n",
       "    </tr>\n",
       "    <tr>\n",
       "      <th>2019-10-06</th>\n",
       "      <td>0</td>\n",
       "      <td>0.0</td>\n",
       "    </tr>\n",
       "    <tr>\n",
       "      <th>2019-10-07</th>\n",
       "      <td>0</td>\n",
       "      <td>0.0</td>\n",
       "    </tr>\n",
       "    <tr>\n",
       "      <th>2019-10-08</th>\n",
       "      <td>0</td>\n",
       "      <td>0.0</td>\n",
       "    </tr>\n",
       "    <tr>\n",
       "      <th>2019-10-09</th>\n",
       "      <td>0</td>\n",
       "      <td>0.0</td>\n",
       "    </tr>\n",
       "    <tr>\n",
       "      <th>2019-10-10</th>\n",
       "      <td>0</td>\n",
       "      <td>0.0</td>\n",
       "    </tr>\n",
       "    <tr>\n",
       "      <th>2019-10-11</th>\n",
       "      <td>0</td>\n",
       "      <td>0.0</td>\n",
       "    </tr>\n",
       "    <tr>\n",
       "      <th>2019-10-12</th>\n",
       "      <td>0</td>\n",
       "      <td>0.0</td>\n",
       "    </tr>\n",
       "    <tr>\n",
       "      <th>2019-10-13</th>\n",
       "      <td>0</td>\n",
       "      <td>0.0</td>\n",
       "    </tr>\n",
       "    <tr>\n",
       "      <th>2019-10-14</th>\n",
       "      <td>0</td>\n",
       "      <td>0.0</td>\n",
       "    </tr>\n",
       "    <tr>\n",
       "      <th>2019-10-15</th>\n",
       "      <td>0</td>\n",
       "      <td>0.0</td>\n",
       "    </tr>\n",
       "    <tr>\n",
       "      <th>2019-10-16</th>\n",
       "      <td>0</td>\n",
       "      <td>0.0</td>\n",
       "    </tr>\n",
       "    <tr>\n",
       "      <th>2019-10-17</th>\n",
       "      <td>0</td>\n",
       "      <td>0.0</td>\n",
       "    </tr>\n",
       "    <tr>\n",
       "      <th>2019-10-18</th>\n",
       "      <td>0</td>\n",
       "      <td>0.0</td>\n",
       "    </tr>\n",
       "    <tr>\n",
       "      <th>2019-10-19</th>\n",
       "      <td>0</td>\n",
       "      <td>0.0</td>\n",
       "    </tr>\n",
       "    <tr>\n",
       "      <th>2019-10-20</th>\n",
       "      <td>0</td>\n",
       "      <td>0.0</td>\n",
       "    </tr>\n",
       "    <tr>\n",
       "      <th>2019-10-21</th>\n",
       "      <td>0</td>\n",
       "      <td>0.0</td>\n",
       "    </tr>\n",
       "    <tr>\n",
       "      <th>2019-10-22</th>\n",
       "      <td>0</td>\n",
       "      <td>0.0</td>\n",
       "    </tr>\n",
       "    <tr>\n",
       "      <th>2019-10-23</th>\n",
       "      <td>0</td>\n",
       "      <td>0.0</td>\n",
       "    </tr>\n",
       "    <tr>\n",
       "      <th>2019-10-24</th>\n",
       "      <td>0</td>\n",
       "      <td>0.0</td>\n",
       "    </tr>\n",
       "    <tr>\n",
       "      <th>2019-10-25</th>\n",
       "      <td>0</td>\n",
       "      <td>0.0</td>\n",
       "    </tr>\n",
       "    <tr>\n",
       "      <th>2019-10-26</th>\n",
       "      <td>0</td>\n",
       "      <td>0.0</td>\n",
       "    </tr>\n",
       "    <tr>\n",
       "      <th>2019-10-27</th>\n",
       "      <td>0</td>\n",
       "      <td>0.0</td>\n",
       "    </tr>\n",
       "    <tr>\n",
       "      <th>2019-10-28</th>\n",
       "      <td>0</td>\n",
       "      <td>0.0</td>\n",
       "    </tr>\n",
       "    <tr>\n",
       "      <th>2019-10-29</th>\n",
       "      <td>0</td>\n",
       "      <td>0.0</td>\n",
       "    </tr>\n",
       "    <tr>\n",
       "      <th>2019-10-30</th>\n",
       "      <td>0</td>\n",
       "      <td>0.0</td>\n",
       "    </tr>\n",
       "    <tr>\n",
       "      <th>2019-10-31</th>\n",
       "      <td>207</td>\n",
       "      <td>207.0</td>\n",
       "    </tr>\n",
       "    <tr>\n",
       "      <th>2019-11-01</th>\n",
       "      <td>1401</td>\n",
       "      <td>1194.0</td>\n",
       "    </tr>\n",
       "    <tr>\n",
       "      <th>2019-11-02</th>\n",
       "      <td>0</td>\n",
       "      <td>-1401.0</td>\n",
       "    </tr>\n",
       "    <tr>\n",
       "      <th>2019-11-03</th>\n",
       "      <td>0</td>\n",
       "      <td>0.0</td>\n",
       "    </tr>\n",
       "    <tr>\n",
       "      <th>2019-11-04</th>\n",
       "      <td>0</td>\n",
       "      <td>0.0</td>\n",
       "    </tr>\n",
       "    <tr>\n",
       "      <th>2019-11-05</th>\n",
       "      <td>0</td>\n",
       "      <td>0.0</td>\n",
       "    </tr>\n",
       "    <tr>\n",
       "      <th>2019-11-06</th>\n",
       "      <td>0</td>\n",
       "      <td>0.0</td>\n",
       "    </tr>\n",
       "    <tr>\n",
       "      <th>2019-11-07</th>\n",
       "      <td>0</td>\n",
       "      <td>0.0</td>\n",
       "    </tr>\n",
       "    <tr>\n",
       "      <th>2019-11-08</th>\n",
       "      <td>0</td>\n",
       "      <td>0.0</td>\n",
       "    </tr>\n",
       "    <tr>\n",
       "      <th>2019-11-09</th>\n",
       "      <td>0</td>\n",
       "      <td>0.0</td>\n",
       "    </tr>\n",
       "    <tr>\n",
       "      <th>2019-11-10</th>\n",
       "      <td>0</td>\n",
       "      <td>0.0</td>\n",
       "    </tr>\n",
       "    <tr>\n",
       "      <th>2019-11-11</th>\n",
       "      <td>0</td>\n",
       "      <td>0.0</td>\n",
       "    </tr>\n",
       "    <tr>\n",
       "      <th>2019-11-12</th>\n",
       "      <td>0</td>\n",
       "      <td>0.0</td>\n",
       "    </tr>\n",
       "    <tr>\n",
       "      <th>2019-11-13</th>\n",
       "      <td>0</td>\n",
       "      <td>0.0</td>\n",
       "    </tr>\n",
       "    <tr>\n",
       "      <th>2019-11-14</th>\n",
       "      <td>0</td>\n",
       "      <td>0.0</td>\n",
       "    </tr>\n",
       "    <tr>\n",
       "      <th>2019-11-15</th>\n",
       "      <td>0</td>\n",
       "      <td>0.0</td>\n",
       "    </tr>\n",
       "    <tr>\n",
       "      <th>2019-11-16</th>\n",
       "      <td>0</td>\n",
       "      <td>0.0</td>\n",
       "    </tr>\n",
       "    <tr>\n",
       "      <th>2019-11-17</th>\n",
       "      <td>0</td>\n",
       "      <td>0.0</td>\n",
       "    </tr>\n",
       "    <tr>\n",
       "      <th>2019-11-18</th>\n",
       "      <td>0</td>\n",
       "      <td>0.0</td>\n",
       "    </tr>\n",
       "    <tr>\n",
       "      <th>2019-11-19</th>\n",
       "      <td>0</td>\n",
       "      <td>0.0</td>\n",
       "    </tr>\n",
       "  </tbody>\n",
       "</table>\n",
       "</div>"
      ],
      "text/plain": [
       "            event_type  Seasonal First Difference\n",
       "date                                             \n",
       "2019-10-01        1515                        NaN\n",
       "2019-10-02           0                    -1515.0\n",
       "2019-10-03           0                        0.0\n",
       "2019-10-04           0                        0.0\n",
       "2019-10-05           0                        0.0\n",
       "2019-10-06           0                        0.0\n",
       "2019-10-07           0                        0.0\n",
       "2019-10-08           0                        0.0\n",
       "2019-10-09           0                        0.0\n",
       "2019-10-10           0                        0.0\n",
       "2019-10-11           0                        0.0\n",
       "2019-10-12           0                        0.0\n",
       "2019-10-13           0                        0.0\n",
       "2019-10-14           0                        0.0\n",
       "2019-10-15           0                        0.0\n",
       "2019-10-16           0                        0.0\n",
       "2019-10-17           0                        0.0\n",
       "2019-10-18           0                        0.0\n",
       "2019-10-19           0                        0.0\n",
       "2019-10-20           0                        0.0\n",
       "2019-10-21           0                        0.0\n",
       "2019-10-22           0                        0.0\n",
       "2019-10-23           0                        0.0\n",
       "2019-10-24           0                        0.0\n",
       "2019-10-25           0                        0.0\n",
       "2019-10-26           0                        0.0\n",
       "2019-10-27           0                        0.0\n",
       "2019-10-28           0                        0.0\n",
       "2019-10-29           0                        0.0\n",
       "2019-10-30           0                        0.0\n",
       "2019-10-31         207                      207.0\n",
       "2019-11-01        1401                     1194.0\n",
       "2019-11-02           0                    -1401.0\n",
       "2019-11-03           0                        0.0\n",
       "2019-11-04           0                        0.0\n",
       "2019-11-05           0                        0.0\n",
       "2019-11-06           0                        0.0\n",
       "2019-11-07           0                        0.0\n",
       "2019-11-08           0                        0.0\n",
       "2019-11-09           0                        0.0\n",
       "2019-11-10           0                        0.0\n",
       "2019-11-11           0                        0.0\n",
       "2019-11-12           0                        0.0\n",
       "2019-11-13           0                        0.0\n",
       "2019-11-14           0                        0.0\n",
       "2019-11-15           0                        0.0\n",
       "2019-11-16           0                        0.0\n",
       "2019-11-17           0                        0.0\n",
       "2019-11-18           0                        0.0\n",
       "2019-11-19           0                        0.0"
      ]
     },
     "execution_count": 306,
     "metadata": {},
     "output_type": "execute_result"
    }
   ],
   "source": [
    "data.head(50)"
   ]
  },
  {
   "cell_type": "code",
   "execution_count": 276,
   "id": "a25f5cef",
   "metadata": {},
   "outputs": [],
   "source": [
    "def adfuller_test(sales):\n",
    "    result=adfuller(sales)\n",
    "    labels = ['ADF Test Statistic','p-value','#Lags Used','Number of Observations Used']\n",
    "    for value,label in zip(result,labels):\n",
    "        print(label+' : '+str(value) )\n",
    "    if result[1] <= 0.05:\n",
    "        print(\"strong evidence against the null hypothesis(Ho), reject the null hypothesis. Data has no unit root and is stationary\")\n",
    "    else:\n",
    "        print(\"weak evidence against null hypothesis, time series has a unit root, indicating it is non-stationary \")"
   ]
  },
  {
   "cell_type": "code",
   "execution_count": 307,
   "id": "7a7f0ac1",
   "metadata": {},
   "outputs": [
    {
     "name": "stdout",
     "output_type": "stream",
     "text": [
      "ADF Test Statistic : -6.995801494491456\n",
      "p-value : 7.539530710538796e-10\n",
      "#Lags Used : 4\n",
      "Number of Observations Used : 86\n",
      "strong evidence against the null hypothesis(Ho), reject the null hypothesis. Data has no unit root and is stationary\n"
     ]
    }
   ],
   "source": [
    "adfuller_test(data['Seasonal First Difference'].dropna())"
   ]
  },
  {
   "cell_type": "code",
   "execution_count": 308,
   "id": "709151af",
   "metadata": {
    "collapsed": true
   },
   "outputs": [
    {
     "data": {
      "text/plain": [
       "<AxesSubplot:xlabel='date'>"
      ]
     },
     "execution_count": 308,
     "metadata": {},
     "output_type": "execute_result"
    },
    {
     "data": {
      "image/png": "[encoded data removed]",
      "text/plain": [
       "<Figure size 1440x720 with 1 Axes>"
      ]
     },
     "metadata": {},
     "output_type": "display_data"
    }
   ],
   "source": [
    "data['Seasonal First Difference'].plot()"
   ]
  },
  {
   "cell_type": "markdown",
   "id": "327769c7",
   "metadata": {},
   "source": [
    "Final Thoughts on Autocorrelation and Partial Autocorrelation\n",
    "\n",
    "Identification of an AR model is often best done with the PACF.\n",
    "For an AR model, the theoretical PACF “shuts off” past the order of the model. The phrase “shuts off” means that in theory the partial autocorrelations are equal to 0 beyond that point. Put another way, the number of non-zero partial autocorrelations gives the order of the AR model. By the “order of the model” we mean the most extreme lag of x that is used as a predictor.\n",
    "\n",
    "Identification of an MA model is often best done with the ACF rather than the PACF.\n",
    "\n",
    "For an MA model, the theoretical PACF does not shut off, but instead tapers toward 0 in some manner. A clearer pattern for an MA model is in the ACF. The ACF will have non-zero autocorrelations only at lags involved in the model.\n",
    "\n",
    "p,d,q p AR model lags d differencing q MA lags\n",
    "\n",
    "p=5,d=4,q=4"
   ]
  },
  {
   "cell_type": "code",
   "execution_count": 309,
   "id": "9390912f",
   "metadata": {},
   "outputs": [
    {
     "data": {
      "image/png": "[encoded data removed]",
      "text/plain": [
       "<Figure size 864x576 with 2 Axes>"
      ]
     },
     "metadata": {},
     "output_type": "display_data"
    }
   ],
   "source": [
    "fig = plt.figure(figsize=(12,8))\n",
    "ax1 = fig.add_subplot(211)\n",
    "fig = sm.graphics.tsa.plot_acf(data['Seasonal First Difference'].iloc[13:],lags=38,ax=ax1)\n",
    "ax2 = fig.add_subplot(212)\n",
    "fig = sm.graphics.tsa.plot_pacf(data['Seasonal First Difference'].iloc[13:],lags=38,ax=ax2)"
   ]
  },
  {
   "cell_type": "markdown",
   "id": "e7b8e4a3",
   "metadata": {},
   "source": [
    "## ARIMA"
   ]
  },
  {
   "cell_type": "code",
   "execution_count": 281,
   "id": "c03b8d97",
   "metadata": {},
   "outputs": [],
   "source": [
    "from statsmodels.tsa.arima_model import ARIMA"
   ]
  },
  {
   "cell_type": "code",
   "execution_count": 468,
   "id": "f292b38f",
   "metadata": {},
   "outputs": [],
   "source": [
    "model=ARIMA(data['event_type'],order=(1,2,0))\n",
    "model_fit=model.fit()"
   ]
  },
  {
   "cell_type": "code",
   "execution_count": 469,
   "id": "40778f28",
   "metadata": {},
   "outputs": [
    {
     "data": {
      "text/html": [
       "<table class=\"simpletable\">\n",
       "<caption>ARIMA Model Results</caption>\n",
       "<tr>\n",
       "  <th>Dep. Variable:</th>   <td>D2.event_type</td>  <th>  No. Observations:  </th>    <td>90</td>   \n",
       "</tr>\n",
       "<tr>\n",
       "  <th>Model:</th>          <td>ARIMA(1, 2, 0)</td>  <th>  Log Likelihood     </th> <td>-666.920</td>\n",
       "</tr>\n",
       "<tr>\n",
       "  <th>Method:</th>             <td>css-mle</td>     <th>  S.D. of innovations</th>  <td>398.785</td>\n",
       "</tr>\n",
       "<tr>\n",
       "  <th>Date:</th>          <td>Thu, 06 Oct 2022</td> <th>  AIC                </th> <td>1339.841</td>\n",
       "</tr>\n",
       "<tr>\n",
       "  <th>Time:</th>              <td>00:07:19</td>     <th>  BIC                </th> <td>1347.340</td>\n",
       "</tr>\n",
       "<tr>\n",
       "  <th>Sample:</th>           <td>10-03-2019</td>    <th>  HQIC               </th> <td>1342.865</td>\n",
       "</tr>\n",
       "<tr>\n",
       "  <th></th>                 <td>- 12-31-2019</td>   <th>                     </th>     <td> </td>   \n",
       "</tr>\n",
       "</table>\n",
       "<table class=\"simpletable\">\n",
       "<tr>\n",
       "           <td></td>              <th>coef</th>     <th>std err</th>      <th>z</th>      <th>P>|z|</th>  <th>[0.025</th>    <th>0.975]</th>  \n",
       "</tr>\n",
       "<tr>\n",
       "  <th>const</th>               <td>   10.4067</td> <td>   25.829</td> <td>    0.403</td> <td> 0.687</td> <td>  -40.217</td> <td>   61.030</td>\n",
       "</tr>\n",
       "<tr>\n",
       "  <th>ar.L1.D2.event_type</th> <td>   -0.6349</td> <td>    0.087</td> <td>   -7.323</td> <td> 0.000</td> <td>   -0.805</td> <td>   -0.465</td>\n",
       "</tr>\n",
       "</table>\n",
       "<table class=\"simpletable\">\n",
       "<caption>Roots</caption>\n",
       "<tr>\n",
       "    <td></td>   <th>            Real</th>  <th>         Imaginary</th> <th>         Modulus</th>  <th>        Frequency</th>\n",
       "</tr>\n",
       "<tr>\n",
       "  <th>AR.1</th> <td>          -1.5751</td> <td>          +0.0000j</td> <td>           1.5751</td> <td>           0.5000</td>\n",
       "</tr>\n",
       "</table>"
      ],
      "text/plain": [
       "<class 'statsmodels.iolib.summary.Summary'>\n",
       "\"\"\"\n",
       "                             ARIMA Model Results                              \n",
       "==============================================================================\n",
       "Dep. Variable:          D2.event_type   No. Observations:                   90\n",
       "Model:                 ARIMA(1, 2, 0)   Log Likelihood                -666.920\n",
       "Method:                       css-mle   S.D. of innovations            398.785\n",
       "Date:                Thu, 06 Oct 2022   AIC                           1339.841\n",
       "Time:                        00:07:19   BIC                           1347.340\n",
       "Sample:                    10-03-2019   HQIC                          1342.865\n",
       "                         - 12-31-2019                                         \n",
       "=======================================================================================\n",
       "                          coef    std err          z      P>|z|      [0.025      0.975]\n",
       "---------------------------------------------------------------------------------------\n",
       "const                  10.4067     25.829      0.403      0.687     -40.217      61.030\n",
       "ar.L1.D2.event_type    -0.6349      0.087     -7.323      0.000      -0.805      -0.465\n",
       "                                    Roots                                    \n",
       "=============================================================================\n",
       "                  Real          Imaginary           Modulus         Frequency\n",
       "-----------------------------------------------------------------------------\n",
       "AR.1           -1.5751           +0.0000j            1.5751            0.5000\n",
       "-----------------------------------------------------------------------------\n",
       "\"\"\""
      ]
     },
     "execution_count": 469,
     "metadata": {},
     "output_type": "execute_result"
    }
   ],
   "source": [
    "model_fit.summary()"
   ]
  },
  {
   "cell_type": "code",
   "execution_count": 470,
   "id": "6187e859",
   "metadata": {},
   "outputs": [
    {
     "data": {
      "text/plain": [
       "<AxesSubplot:xlabel='date'>"
      ]
     },
     "execution_count": 470,
     "metadata": {},
     "output_type": "execute_result"
    },
    {
     "data": {
      "image/png": "[encoded data removed]",
      "text/plain": [
       "<Figure size 864x576 with 1 Axes>"
      ]
     },
     "metadata": {},
     "output_type": "display_data"
    }
   ],
   "source": [
    "data['forecast']=model_fit.predict(start=70,end=80,dynamic=True)\n",
    "data[['event_type','forecast']].plot(figsize=(12,8))"
   ]
  },
  {
   "cell_type": "code",
   "execution_count": null,
   "id": "ccf0bfe6",
   "metadata": {},
   "outputs": [],
   "source": []
  },
  {
   "cell_type": "code",
   "execution_count": null,
   "id": "174b1333",
   "metadata": {},
   "outputs": [],
   "source": []
  },
  {
   "cell_type": "code",
   "execution_count": null,
   "id": "6c147a00",
   "metadata": {},
   "outputs": [],
   "source": []
  },
  {
   "cell_type": "code",
   "execution_count": 226,
   "id": "7e913d17",
   "metadata": {},
   "outputs": [],
   "source": [
    "import statsmodels.api as sm"
   ]
  },
  {
   "cell_type": "code",
   "execution_count": 464,
   "id": "c52aec4c",
   "metadata": {},
   "outputs": [],
   "source": [
    "model=sm.tsa.statespace.SARIMAX(data['event_type'],order=(1, 2, 0),seasonal_order=(1,2,0,2))\n",
    "results_3=model.fit()\n"
   ]
  },
  {
   "cell_type": "code",
   "execution_count": 465,
   "id": "adfde37a",
   "metadata": {},
   "outputs": [
    {
     "data": {
      "text/html": [
       "<table class=\"simpletable\">\n",
       "<caption>SARIMAX Results</caption>\n",
       "<tr>\n",
       "  <th>Dep. Variable:</th>            <td>event_type</td>           <th>  No. Observations:  </th>    <td>92</td>   \n",
       "</tr>\n",
       "<tr>\n",
       "  <th>Model:</th>           <td>SARIMAX(1, 2, 0)x(1, 2, 0, 2)</td> <th>  Log Likelihood     </th> <td>-692.425</td>\n",
       "</tr>\n",
       "<tr>\n",
       "  <th>Date:</th>                  <td>Thu, 06 Oct 2022</td>        <th>  AIC                </th> <td>1390.851</td>\n",
       "</tr>\n",
       "<tr>\n",
       "  <th>Time:</th>                      <td>00:06:22</td>            <th>  BIC                </th> <td>1398.214</td>\n",
       "</tr>\n",
       "<tr>\n",
       "  <th>Sample:</th>                   <td>10-01-2019</td>           <th>  HQIC               </th> <td>1393.814</td>\n",
       "</tr>\n",
       "<tr>\n",
       "  <th></th>                         <td>- 12-31-2019</td>          <th>                     </th>     <td> </td>   \n",
       "</tr>\n",
       "<tr>\n",
       "  <th>Covariance Type:</th>              <td>opg</td>              <th>                     </th>     <td> </td>   \n",
       "</tr>\n",
       "</table>\n",
       "<table class=\"simpletable\">\n",
       "<tr>\n",
       "     <td></td>        <th>coef</th>     <th>std err</th>      <th>z</th>      <th>P>|z|</th>  <th>[0.025</th>    <th>0.975]</th>  \n",
       "</tr>\n",
       "<tr>\n",
       "  <th>ar.L1</th>   <td>   -0.4859</td> <td>    0.077</td> <td>   -6.281</td> <td> 0.000</td> <td>   -0.637</td> <td>   -0.334</td>\n",
       "</tr>\n",
       "<tr>\n",
       "  <th>ar.S.L2</th> <td>   -0.6856</td> <td>    0.052</td> <td>  -13.082</td> <td> 0.000</td> <td>   -0.788</td> <td>   -0.583</td>\n",
       "</tr>\n",
       "<tr>\n",
       "  <th>sigma2</th>  <td> 5.699e+05</td> <td> 4.83e+04</td> <td>   11.791</td> <td> 0.000</td> <td> 4.75e+05</td> <td> 6.65e+05</td>\n",
       "</tr>\n",
       "</table>\n",
       "<table class=\"simpletable\">\n",
       "<tr>\n",
       "  <th>Ljung-Box (L1) (Q):</th>     <td>8.89</td> <th>  Jarque-Bera (JB):  </th> <td>299.46</td>\n",
       "</tr>\n",
       "<tr>\n",
       "  <th>Prob(Q):</th>                <td>0.00</td> <th>  Prob(JB):          </th>  <td>0.00</td> \n",
       "</tr>\n",
       "<tr>\n",
       "  <th>Heteroskedasticity (H):</th> <td>0.84</td> <th>  Skew:              </th>  <td>1.09</td> \n",
       "</tr>\n",
       "<tr>\n",
       "  <th>Prob(H) (two-sided):</th>    <td>0.65</td> <th>  Kurtosis:          </th>  <td>11.88</td>\n",
       "</tr>\n",
       "</table><br/><br/>Warnings:<br/>[1] Covariance matrix calculated using the outer product of gradients (complex-step)."
      ],
      "text/plain": [
       "<class 'statsmodels.iolib.summary.Summary'>\n",
       "\"\"\"\n",
       "                                     SARIMAX Results                                     \n",
       "=========================================================================================\n",
       "Dep. Variable:                        event_type   No. Observations:                   92\n",
       "Model:             SARIMAX(1, 2, 0)x(1, 2, 0, 2)   Log Likelihood                -692.425\n",
       "Date:                           Thu, 06 Oct 2022   AIC                           1390.851\n",
       "Time:                                   00:06:22   BIC                           1398.214\n",
       "Sample:                               10-01-2019   HQIC                          1393.814\n",
       "                                    - 12-31-2019                                         \n",
       "Covariance Type:                             opg                                         \n",
       "==============================================================================\n",
       "                 coef    std err          z      P>|z|      [0.025      0.975]\n",
       "------------------------------------------------------------------------------\n",
       "ar.L1         -0.4859      0.077     -6.281      0.000      -0.637      -0.334\n",
       "ar.S.L2       -0.6856      0.052    -13.082      0.000      -0.788      -0.583\n",
       "sigma2      5.699e+05   4.83e+04     11.791      0.000    4.75e+05    6.65e+05\n",
       "===================================================================================\n",
       "Ljung-Box (L1) (Q):                   8.89   Jarque-Bera (JB):               299.46\n",
       "Prob(Q):                              0.00   Prob(JB):                         0.00\n",
       "Heteroskedasticity (H):               0.84   Skew:                             1.09\n",
       "Prob(H) (two-sided):                  0.65   Kurtosis:                        11.88\n",
       "===================================================================================\n",
       "\n",
       "Warnings:\n",
       "[1] Covariance matrix calculated using the outer product of gradients (complex-step).\n",
       "\"\"\""
      ]
     },
     "execution_count": 465,
     "metadata": {},
     "output_type": "execute_result"
    }
   ],
   "source": [
    "results_3.summary()"
   ]
  },
  {
   "cell_type": "code",
   "execution_count": 466,
   "id": "ce0afa7f",
   "metadata": {},
   "outputs": [
    {
     "data": {
      "text/plain": [
       "<AxesSubplot:xlabel='date'>"
      ]
     },
     "execution_count": 466,
     "metadata": {},
     "output_type": "execute_result"
    },
    {
     "data": {
      "image/png": "[encoded data removed]",
      "text/plain": [
       "<Figure size 864x576 with 1 Axes>"
      ]
     },
     "metadata": {},
     "output_type": "display_data"
    }
   ],
   "source": [
    "data['forecast']=results.predict(start=60,end=80,dynamic=True)\n",
    "data[['event_type','forecast']].plot(figsize=(12,8))\n"
   ]
  },
  {
   "cell_type": "code",
   "execution_count": 471,
   "id": "e24fc9c3",
   "metadata": {},
   "outputs": [],
   "source": [
    "#data['forecast']=results.predict(start=90,end=103,dynamic=True)\n",
    "#data[['event_type','forecast']].plot(figsize=(12,8))\n",
    "data = data.drop(columns = 'forecast',axis=1)"
   ]
  },
  {
   "cell_type": "code",
   "execution_count": null,
   "id": "db7bef8d",
   "metadata": {},
   "outputs": [],
   "source": [
    "predictions = pd.Series(results.fittedvalues,  copy=True)\n",
    "print(predictions.head())"
   ]
  },
  {
   "cell_type": "code",
   "execution_count": null,
   "id": "ab03a7ef",
   "metadata": {},
   "outputs": [],
   "source": [
    "predictions_cum_sum = predictions.cumsum()\n",
    "print(predictions_cum_sum.head())"
   ]
  },
  {
   "cell_type": "code",
   "execution_count": null,
   "id": "a413391f",
   "metadata": {},
   "outputs": [],
   "source": [
    "predictions_log = pd.Series(data['event_type'].iloc[0],index= data.index)\n",
    "predictions_log = predictions_log.add(predictions_cum_sum,fill_value=0)\n",
    "predictions_log.head()"
   ]
  },
  {
   "cell_type": "code",
   "execution_count": null,
   "id": "e91156ef",
   "metadata": {},
   "outputs": [],
   "source": [
    "from matplotlib.pylab import rcParams\n",
    "rcParams['figure.figsize']=20,10\n",
    "results.plot_predict(1,204)\n",
    "x = results.forecast(steps=120)"
   ]
  },
  {
   "cell_type": "code",
   "execution_count": null,
   "id": "fa20b6cb",
   "metadata": {},
   "outputs": [],
   "source": []
  },
  {
   "cell_type": "code",
   "execution_count": null,
   "id": "64362b3b",
   "metadata": {},
   "outputs": [],
   "source": []
  }
 ],
 "metadata": {
  "kernelspec": {
   "display_name": "Python 3 (ipykernel)",
   "language": "python",
   "name": "python3"
  },
  "language_info": {
   "codemirror_mode": {
    "name": "ipython",
    "version": 3
   },
   "file_extension": ".py",
   "mimetype": "text/x-python",
   "name": "python",
   "nbconvert_exporter": "python",
   "pygments_lexer": "ipython3",
   "version": "3.9.7"
  }
 },
 "nbformat": 4,
 "nbformat_minor": 5
}
